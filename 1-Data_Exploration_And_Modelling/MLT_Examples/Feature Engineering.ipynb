{
 "cells": [
  {
   "cell_type": "markdown",
   "source": [
    "# Feature Engineering\n",
    "\n",
    "Feature engineering is the process by which you enhance the input features. According to [Friedman (2001)](https://statweb.stanford.edu/~jhf/ftp/trebst.pdf), 80% of the time spent on a predictive modeling project is **feature engineering**.\n",
    "\n",
    "Feature Engineering consists of:\n",
    "* **Feature Transformation**\n",
    "* **Feature Creation**\n",
    "* **Feature Selection**\n",
    "* **Feature Extraction**"
   ],
   "metadata": {
    "collapsed": false,
    "pycharm": {
     "name": "#%% md\n"
    }
   },
   "outputs": []
  },
  {
   "cell_type": "markdown",
   "source": [
    "## Feature Transformation\n",
    "\n",
    "Features in a dataset can have different scales and magnitudes. To improve model performance, we transform the features to have the same range of magnitude and have a specific distribution, e.g., a Gaussian distribution."
   ],
   "metadata": {
    "collapsed": false,
    "pycharm": {
     "name": "#%% md\n"
    }
   }
  },
  {
   "cell_type": "markdown",
   "source": [
    "## Feature Creation\n",
    "\n",
    "Feature creation involves deriving new features from existing ones. Different techniques can be used:\n",
    "* Imputation: replacing missing values with sensible alternative instead of dropping\n",
    "* Discretization or binning: transform numerical to categorical\n",
    "* Categorical Encoding: transform categorical to numerical\n",
    "* Feature Splitting: split one feature into multiple features\n",
    "* ..."
   ],
   "metadata": {
    "collapsed": false,
    "pycharm": {
     "name": "#%% md\n"
    }
   }
  },
  {
   "cell_type": "markdown",
   "source": [
    "## Feature Selection\n",
    "Feature Selection is the process of selecting a **subset of relevant features** for use in model construction. The goal of feature selection is to improve the accuracy of a model by reducing the complexity of a model and making it easier to interpret. There are many reasons why feature selection is important:\n",
    "\n",
    "* **Reduces Overfitting**: Less redundant data means less opportunity to make decisions based on noise.\n",
    "* **Improves Accuracy**: Less misleading data means modeling accuracy improves.\n",
    "* **Reduces Training Time**: Less data means that algorithms train faster.\n",
    "* **Improves Interpretability**: Fewer features means that the model is easier to explain.\n",
    "* **Improves Generalization**: Fewer features means that the model is less likely to overfit.\n",
    "* **Improves Robustness**: Fewer features means that the model is less likely to be affected by outliers.\n",
    "* **Improves Stability**: Fewer features means that the model is less likely to be affected by small changes in the data."
   ],
   "metadata": {
    "collapsed": false,
    "pycharm": {
     "name": "#%% md\n"
    }
   }
  },
  {
   "cell_type": "markdown",
   "source": [
    "### Determining feature relevance\n",
    "How can we determine which features are **relevant**? There are many ways to do this,e.g.:\n",
    "* using domain knowledge, maybe an expert in the field can tell us which features are important\n",
    "* using statistical tests, e.g. correlation, chi-squared, or mutual information, ...\n",
    "* using machine learning, e.g. using a decision tree or PCA to select the most important features\n",
    "* using a combination of the above\n",
    "\n",
    "Sci-kit learn provides a number of feature selection methods. You have to distinguish between regression and classification problems and each has number of different scoring functions.\n",
    "\n",
    "The most common scoring functions for regression problems are:\n",
    "* `f_regression`: computes the ANOVA F-value between the label/feature for regression tasks.\n",
    "* `mutual_info_regression`: computes the mutual information between the target and the feature.\n",
    "\n",
    "The most common scoring functions for classification are:\n",
    "* `chi2`: computes the chi-squared stats between each non-negative feature and class.\n",
    "* `f_classif`: computes the ANOVA F-value between the label/feature for classification tasks.\n",
    "* `mutual_info_classif`: computes the mutual information between the target class and the feature.\n",
    "\n",
    "\n",
    "Selecting the best features can be done using the `SelectKBest` class or the `SelectPercentile` class. The `SelectKBest` class selects the best features based on the `k` highest scores while the `SelectPercentile` class selects the best features based on a percentile of the highest scores. You can find more information about this classes [here](https://scikit-learn.org/stable/modules/feature_selection.html#univariate-feature-selection)."
   ],
   "metadata": {
    "collapsed": false,
    "pycharm": {
     "name": "#%% md\n"
    }
   }
  },
  {
   "cell_type": "markdown",
   "source": [
    "# Examples\n",
    "\n",
    "The next few sections will demonstrate some feature engineering techniques. For more information look online."
   ],
   "metadata": {
    "collapsed": false,
    "pycharm": {
     "name": "#%% md\n"
    }
   }
  },
  {
   "cell_type": "markdown",
   "source": [
    "## Dataset\n",
    "We will use the Titanic dataset to demonstrate feature engineering. The dataset contains information about the passengers on the Titanic. We will use this dataset to predict whether a passenger survived or not."
   ],
   "metadata": {
    "collapsed": false,
    "pycharm": {
     "name": "#%% md\n"
    }
   }
  },
  {
   "cell_type": "code",
   "execution_count": 8,
   "metadata": {
    "collapsed": true,
    "pycharm": {
     "name": "#%%\n"
    }
   },
   "outputs": [
    {
     "data": {
      "text/plain": "   PassengerId  Survived  Pclass  \\\n0            1         0       3   \n1            2         1       1   \n2            3         1       3   \n3            4         1       1   \n4            5         0       3   \n\n                                                Name     Sex   Age  SibSp  \\\n0                            Braund, Mr. Owen Harris    male  22.0      1   \n1  Cumings, Mrs. John Bradley (Florence Briggs Th...  female  38.0      1   \n2                             Heikkinen, Miss. Laina  female  26.0      0   \n3       Futrelle, Mrs. Jacques Heath (Lily May Peel)  female  35.0      1   \n4                           Allen, Mr. William Henry    male  35.0      0   \n\n   Parch            Ticket     Fare Cabin Embarked  \n0      0         A/5 21171   7.2500   NaN        S  \n1      0          PC 17599  71.2833   C85        C  \n2      0  STON/O2. 3101282   7.9250   NaN        S  \n3      0            113803  53.1000  C123        S  \n4      0            373450   8.0500   NaN        S  ",
      "text/html": "<div>\n<style scoped>\n    .dataframe tbody tr th:only-of-type {\n        vertical-align: middle;\n    }\n\n    .dataframe tbody tr th {\n        vertical-align: top;\n    }\n\n    .dataframe thead th {\n        text-align: right;\n    }\n</style>\n<table border=\"1\" class=\"dataframe\">\n  <thead>\n    <tr style=\"text-align: right;\">\n      <th></th>\n      <th>PassengerId</th>\n      <th>Survived</th>\n      <th>Pclass</th>\n      <th>Name</th>\n      <th>Sex</th>\n      <th>Age</th>\n      <th>SibSp</th>\n      <th>Parch</th>\n      <th>Ticket</th>\n      <th>Fare</th>\n      <th>Cabin</th>\n      <th>Embarked</th>\n    </tr>\n  </thead>\n  <tbody>\n    <tr>\n      <th>0</th>\n      <td>1</td>\n      <td>0</td>\n      <td>3</td>\n      <td>Braund, Mr. Owen Harris</td>\n      <td>male</td>\n      <td>22.0</td>\n      <td>1</td>\n      <td>0</td>\n      <td>A/5 21171</td>\n      <td>7.2500</td>\n      <td>NaN</td>\n      <td>S</td>\n    </tr>\n    <tr>\n      <th>1</th>\n      <td>2</td>\n      <td>1</td>\n      <td>1</td>\n      <td>Cumings, Mrs. John Bradley (Florence Briggs Th...</td>\n      <td>female</td>\n      <td>38.0</td>\n      <td>1</td>\n      <td>0</td>\n      <td>PC 17599</td>\n      <td>71.2833</td>\n      <td>C85</td>\n      <td>C</td>\n    </tr>\n    <tr>\n      <th>2</th>\n      <td>3</td>\n      <td>1</td>\n      <td>3</td>\n      <td>Heikkinen, Miss. Laina</td>\n      <td>female</td>\n      <td>26.0</td>\n      <td>0</td>\n      <td>0</td>\n      <td>STON/O2. 3101282</td>\n      <td>7.9250</td>\n      <td>NaN</td>\n      <td>S</td>\n    </tr>\n    <tr>\n      <th>3</th>\n      <td>4</td>\n      <td>1</td>\n      <td>1</td>\n      <td>Futrelle, Mrs. Jacques Heath (Lily May Peel)</td>\n      <td>female</td>\n      <td>35.0</td>\n      <td>1</td>\n      <td>0</td>\n      <td>113803</td>\n      <td>53.1000</td>\n      <td>C123</td>\n      <td>S</td>\n    </tr>\n    <tr>\n      <th>4</th>\n      <td>5</td>\n      <td>0</td>\n      <td>3</td>\n      <td>Allen, Mr. William Henry</td>\n      <td>male</td>\n      <td>35.0</td>\n      <td>0</td>\n      <td>0</td>\n      <td>373450</td>\n      <td>8.0500</td>\n      <td>NaN</td>\n      <td>S</td>\n    </tr>\n  </tbody>\n</table>\n</div>"
     },
     "execution_count": 8,
     "metadata": {},
     "output_type": "execute_result"
    }
   ],
   "source": [
    "# import titanic dataset\n",
    "import pandas as pd\n",
    "\n",
    "data = pd.read_csv('https://raw.githubusercontent.com/datasciencedojo/datasets/master/titanic.csv')\n",
    "data.head()"
   ]
  },
  {
   "cell_type": "markdown",
   "source": [
    "## Feature transformation"
   ],
   "metadata": {
    "collapsed": false,
    "pycharm": {
     "name": "#%% md\n"
    }
   }
  },
  {
   "cell_type": "code",
   "execution_count": 9,
   "outputs": [
    {
     "data": {
      "text/plain": "   PassengerId  Survived  Pclass  \\\n0            1         0       3   \n1            2         1       1   \n2            3         1       3   \n3            4         1       1   \n4            5         0       3   \n\n                                                Name     Sex       Age  SibSp  \\\n0                            Braund, Mr. Owen Harris    male -0.530377      1   \n1  Cumings, Mrs. John Bradley (Florence Briggs Th...  female  0.571831      1   \n2                             Heikkinen, Miss. Laina  female -0.254825      0   \n3       Futrelle, Mrs. Jacques Heath (Lily May Peel)  female  0.365167      1   \n4                           Allen, Mr. William Henry    male  0.365167      0   \n\n   Parch            Ticket      Fare Cabin Embarked  \n0      0         A/5 21171 -0.502445   NaN        S  \n1      0          PC 17599  0.786845   C85        C  \n2      0  STON/O2. 3101282 -0.488854   NaN        S  \n3      0            113803  0.420730  C123        S  \n4      0            373450 -0.486337   NaN        S  ",
      "text/html": "<div>\n<style scoped>\n    .dataframe tbody tr th:only-of-type {\n        vertical-align: middle;\n    }\n\n    .dataframe tbody tr th {\n        vertical-align: top;\n    }\n\n    .dataframe thead th {\n        text-align: right;\n    }\n</style>\n<table border=\"1\" class=\"dataframe\">\n  <thead>\n    <tr style=\"text-align: right;\">\n      <th></th>\n      <th>PassengerId</th>\n      <th>Survived</th>\n      <th>Pclass</th>\n      <th>Name</th>\n      <th>Sex</th>\n      <th>Age</th>\n      <th>SibSp</th>\n      <th>Parch</th>\n      <th>Ticket</th>\n      <th>Fare</th>\n      <th>Cabin</th>\n      <th>Embarked</th>\n    </tr>\n  </thead>\n  <tbody>\n    <tr>\n      <th>0</th>\n      <td>1</td>\n      <td>0</td>\n      <td>3</td>\n      <td>Braund, Mr. Owen Harris</td>\n      <td>male</td>\n      <td>-0.530377</td>\n      <td>1</td>\n      <td>0</td>\n      <td>A/5 21171</td>\n      <td>-0.502445</td>\n      <td>NaN</td>\n      <td>S</td>\n    </tr>\n    <tr>\n      <th>1</th>\n      <td>2</td>\n      <td>1</td>\n      <td>1</td>\n      <td>Cumings, Mrs. John Bradley (Florence Briggs Th...</td>\n      <td>female</td>\n      <td>0.571831</td>\n      <td>1</td>\n      <td>0</td>\n      <td>PC 17599</td>\n      <td>0.786845</td>\n      <td>C85</td>\n      <td>C</td>\n    </tr>\n    <tr>\n      <th>2</th>\n      <td>3</td>\n      <td>1</td>\n      <td>3</td>\n      <td>Heikkinen, Miss. Laina</td>\n      <td>female</td>\n      <td>-0.254825</td>\n      <td>0</td>\n      <td>0</td>\n      <td>STON/O2. 3101282</td>\n      <td>-0.488854</td>\n      <td>NaN</td>\n      <td>S</td>\n    </tr>\n    <tr>\n      <th>3</th>\n      <td>4</td>\n      <td>1</td>\n      <td>1</td>\n      <td>Futrelle, Mrs. Jacques Heath (Lily May Peel)</td>\n      <td>female</td>\n      <td>0.365167</td>\n      <td>1</td>\n      <td>0</td>\n      <td>113803</td>\n      <td>0.420730</td>\n      <td>C123</td>\n      <td>S</td>\n    </tr>\n    <tr>\n      <th>4</th>\n      <td>5</td>\n      <td>0</td>\n      <td>3</td>\n      <td>Allen, Mr. William Henry</td>\n      <td>male</td>\n      <td>0.365167</td>\n      <td>0</td>\n      <td>0</td>\n      <td>373450</td>\n      <td>-0.486337</td>\n      <td>NaN</td>\n      <td>S</td>\n    </tr>\n  </tbody>\n</table>\n</div>"
     },
     "execution_count": 9,
     "metadata": {},
     "output_type": "execute_result"
    }
   ],
   "source": [
    "# standardize the Age and Fare features\n",
    "from sklearn.preprocessing import StandardScaler\n",
    "\n",
    "scaler = StandardScaler()\n",
    "data[['Age', 'Fare']] = scaler.fit_transform(data[['Age', 'Fare']])\n",
    "data.head()"
   ],
   "metadata": {
    "collapsed": false,
    "pycharm": {
     "name": "#%%\n"
    }
   }
  },
  {
   "cell_type": "markdown",
   "source": [
    "## Feature Creation\n",
    "\n",
    "The dataset contains missing values which we would like to replace with sensible alternatives."
   ],
   "metadata": {
    "collapsed": false,
    "pycharm": {
     "name": "#%% md\n"
    }
   }
  },
  {
   "cell_type": "code",
   "execution_count": 10,
   "outputs": [
    {
     "data": {
      "text/plain": "                     PassengerId  Survived  Pclass  Name  Sex  Age  SibSp  \\\n# of missing values            0         0       0     0    0  177      0   \n\n                     Parch  Ticket  Fare  Cabin  Embarked  \n# of missing values      0       0     0    687         2  ",
      "text/html": "<div>\n<style scoped>\n    .dataframe tbody tr th:only-of-type {\n        vertical-align: middle;\n    }\n\n    .dataframe tbody tr th {\n        vertical-align: top;\n    }\n\n    .dataframe thead th {\n        text-align: right;\n    }\n</style>\n<table border=\"1\" class=\"dataframe\">\n  <thead>\n    <tr style=\"text-align: right;\">\n      <th></th>\n      <th>PassengerId</th>\n      <th>Survived</th>\n      <th>Pclass</th>\n      <th>Name</th>\n      <th>Sex</th>\n      <th>Age</th>\n      <th>SibSp</th>\n      <th>Parch</th>\n      <th>Ticket</th>\n      <th>Fare</th>\n      <th>Cabin</th>\n      <th>Embarked</th>\n    </tr>\n  </thead>\n  <tbody>\n    <tr>\n      <th># of missing values</th>\n      <td>0</td>\n      <td>0</td>\n      <td>0</td>\n      <td>0</td>\n      <td>0</td>\n      <td>177</td>\n      <td>0</td>\n      <td>0</td>\n      <td>0</td>\n      <td>0</td>\n      <td>687</td>\n      <td>2</td>\n    </tr>\n  </tbody>\n</table>\n</div>"
     },
     "execution_count": 10,
     "metadata": {},
     "output_type": "execute_result"
    }
   ],
   "source": [
    "pd.DataFrame(data.isna().sum(), columns=['# of missing values']).T"
   ],
   "metadata": {
    "collapsed": false,
    "pycharm": {
     "name": "#%%\n"
    }
   }
  },
  {
   "cell_type": "markdown",
   "source": [
    "### Impute Missing Values\n",
    "\n",
    "We will use a **Nearest Neighbors** imputer to impute the missing values in all the numerical columns. See [here](https://scikit-learn.org/stable/modules/generated/sklearn.impute.KNNImputer.html) for more information."
   ],
   "metadata": {
    "collapsed": false,
    "pycharm": {
     "name": "#%% md\n"
    }
   }
  },
  {
   "cell_type": "code",
   "execution_count": 11,
   "outputs": [
    {
     "data": {
      "text/plain": "   PassengerId  Survived  Pclass  \\\n0          1.0       0.0     3.0   \n1          2.0       1.0     1.0   \n2          3.0       1.0     3.0   \n3          4.0       1.0     1.0   \n4          5.0       0.0     3.0   \n\n                                                Name     Sex       Age  SibSp  \\\n0                            Braund, Mr. Owen Harris    male -0.530377    1.0   \n1  Cumings, Mrs. John Bradley (Florence Briggs Th...  female  0.571831    1.0   \n2                             Heikkinen, Miss. Laina  female -0.254825    0.0   \n3       Futrelle, Mrs. Jacques Heath (Lily May Peel)  female  0.365167    1.0   \n4                           Allen, Mr. William Henry    male  0.365167    0.0   \n\n   Parch            Ticket      Fare Cabin Embarked  \n0    0.0         A/5 21171 -0.502445   NaN        S  \n1    0.0          PC 17599  0.786845   C85        C  \n2    0.0  STON/O2. 3101282 -0.488854   NaN        S  \n3    0.0            113803  0.420730  C123        S  \n4    0.0            373450 -0.486337   NaN        S  ",
      "text/html": "<div>\n<style scoped>\n    .dataframe tbody tr th:only-of-type {\n        vertical-align: middle;\n    }\n\n    .dataframe tbody tr th {\n        vertical-align: top;\n    }\n\n    .dataframe thead th {\n        text-align: right;\n    }\n</style>\n<table border=\"1\" class=\"dataframe\">\n  <thead>\n    <tr style=\"text-align: right;\">\n      <th></th>\n      <th>PassengerId</th>\n      <th>Survived</th>\n      <th>Pclass</th>\n      <th>Name</th>\n      <th>Sex</th>\n      <th>Age</th>\n      <th>SibSp</th>\n      <th>Parch</th>\n      <th>Ticket</th>\n      <th>Fare</th>\n      <th>Cabin</th>\n      <th>Embarked</th>\n    </tr>\n  </thead>\n  <tbody>\n    <tr>\n      <th>0</th>\n      <td>1.0</td>\n      <td>0.0</td>\n      <td>3.0</td>\n      <td>Braund, Mr. Owen Harris</td>\n      <td>male</td>\n      <td>-0.530377</td>\n      <td>1.0</td>\n      <td>0.0</td>\n      <td>A/5 21171</td>\n      <td>-0.502445</td>\n      <td>NaN</td>\n      <td>S</td>\n    </tr>\n    <tr>\n      <th>1</th>\n      <td>2.0</td>\n      <td>1.0</td>\n      <td>1.0</td>\n      <td>Cumings, Mrs. John Bradley (Florence Briggs Th...</td>\n      <td>female</td>\n      <td>0.571831</td>\n      <td>1.0</td>\n      <td>0.0</td>\n      <td>PC 17599</td>\n      <td>0.786845</td>\n      <td>C85</td>\n      <td>C</td>\n    </tr>\n    <tr>\n      <th>2</th>\n      <td>3.0</td>\n      <td>1.0</td>\n      <td>3.0</td>\n      <td>Heikkinen, Miss. Laina</td>\n      <td>female</td>\n      <td>-0.254825</td>\n      <td>0.0</td>\n      <td>0.0</td>\n      <td>STON/O2. 3101282</td>\n      <td>-0.488854</td>\n      <td>NaN</td>\n      <td>S</td>\n    </tr>\n    <tr>\n      <th>3</th>\n      <td>4.0</td>\n      <td>1.0</td>\n      <td>1.0</td>\n      <td>Futrelle, Mrs. Jacques Heath (Lily May Peel)</td>\n      <td>female</td>\n      <td>0.365167</td>\n      <td>1.0</td>\n      <td>0.0</td>\n      <td>113803</td>\n      <td>0.420730</td>\n      <td>C123</td>\n      <td>S</td>\n    </tr>\n    <tr>\n      <th>4</th>\n      <td>5.0</td>\n      <td>0.0</td>\n      <td>3.0</td>\n      <td>Allen, Mr. William Henry</td>\n      <td>male</td>\n      <td>0.365167</td>\n      <td>0.0</td>\n      <td>0.0</td>\n      <td>373450</td>\n      <td>-0.486337</td>\n      <td>NaN</td>\n      <td>S</td>\n    </tr>\n  </tbody>\n</table>\n</div>"
     },
     "execution_count": 11,
     "metadata": {},
     "output_type": "execute_result"
    }
   ],
   "source": [
    "import numpy as np\n",
    "from sklearn.impute import KNNImputer\n",
    "\n",
    "imputer = KNNImputer(n_neighbors=5)\n",
    "X = imputer.fit_transform(data.select_dtypes(include=np.number))\n",
    "X = pd.DataFrame(X, columns=data.select_dtypes(include=np.number).columns)\n",
    "\n",
    "# replace all columns with imputed values\n",
    "data[data.select_dtypes(include=np.number).columns] = X\n",
    "data.head()"
   ],
   "metadata": {
    "collapsed": false,
    "pycharm": {
     "name": "#%%\n"
    }
   }
  },
  {
   "cell_type": "markdown",
   "source": [
    "Categorical columns **are not imputed** by the KNN imputer. We will impute the missing values in the categorical columns with the most frequent value using the SimpleImputer. See the [documentation](https://scikit-learn.org/stable/modules/generated/sklearn.impute.SimpleImputer.html) for more information.\n",
    "\n",
    "However, one can also use the KNN imputer to impute categorical columns, but it requires that all categorical columns are encoded as integers using e.g. a LabelEncoder, since the KNN imputer only works with numerical columns.  See [here](https://stackoverflow.com/questions/64900801/implementing-knn-imputation-on-categorical-variables-in-an-sklearn-pipeline) for more information."
   ],
   "metadata": {
    "collapsed": false,
    "pycharm": {
     "name": "#%% md\n"
    }
   }
  },
  {
   "cell_type": "code",
   "execution_count": 12,
   "outputs": [
    {
     "data": {
      "text/plain": "   PassengerId  Survived  Pclass  \\\n0          1.0       0.0     3.0   \n1          2.0       1.0     1.0   \n2          3.0       1.0     3.0   \n3          4.0       1.0     1.0   \n4          5.0       0.0     3.0   \n\n                                                Name     Sex       Age  SibSp  \\\n0                            Braund, Mr. Owen Harris    male -0.530377    1.0   \n1  Cumings, Mrs. John Bradley (Florence Briggs Th...  female  0.571831    1.0   \n2                             Heikkinen, Miss. Laina  female -0.254825    0.0   \n3       Futrelle, Mrs. Jacques Heath (Lily May Peel)  female  0.365167    1.0   \n4                           Allen, Mr. William Henry    male  0.365167    0.0   \n\n   Parch            Ticket      Fare    Cabin Embarked  \n0    0.0         A/5 21171 -0.502445  B96 B98        S  \n1    0.0          PC 17599  0.786845      C85        C  \n2    0.0  STON/O2. 3101282 -0.488854  B96 B98        S  \n3    0.0            113803  0.420730     C123        S  \n4    0.0            373450 -0.486337  B96 B98        S  ",
      "text/html": "<div>\n<style scoped>\n    .dataframe tbody tr th:only-of-type {\n        vertical-align: middle;\n    }\n\n    .dataframe tbody tr th {\n        vertical-align: top;\n    }\n\n    .dataframe thead th {\n        text-align: right;\n    }\n</style>\n<table border=\"1\" class=\"dataframe\">\n  <thead>\n    <tr style=\"text-align: right;\">\n      <th></th>\n      <th>PassengerId</th>\n      <th>Survived</th>\n      <th>Pclass</th>\n      <th>Name</th>\n      <th>Sex</th>\n      <th>Age</th>\n      <th>SibSp</th>\n      <th>Parch</th>\n      <th>Ticket</th>\n      <th>Fare</th>\n      <th>Cabin</th>\n      <th>Embarked</th>\n    </tr>\n  </thead>\n  <tbody>\n    <tr>\n      <th>0</th>\n      <td>1.0</td>\n      <td>0.0</td>\n      <td>3.0</td>\n      <td>Braund, Mr. Owen Harris</td>\n      <td>male</td>\n      <td>-0.530377</td>\n      <td>1.0</td>\n      <td>0.0</td>\n      <td>A/5 21171</td>\n      <td>-0.502445</td>\n      <td>B96 B98</td>\n      <td>S</td>\n    </tr>\n    <tr>\n      <th>1</th>\n      <td>2.0</td>\n      <td>1.0</td>\n      <td>1.0</td>\n      <td>Cumings, Mrs. John Bradley (Florence Briggs Th...</td>\n      <td>female</td>\n      <td>0.571831</td>\n      <td>1.0</td>\n      <td>0.0</td>\n      <td>PC 17599</td>\n      <td>0.786845</td>\n      <td>C85</td>\n      <td>C</td>\n    </tr>\n    <tr>\n      <th>2</th>\n      <td>3.0</td>\n      <td>1.0</td>\n      <td>3.0</td>\n      <td>Heikkinen, Miss. Laina</td>\n      <td>female</td>\n      <td>-0.254825</td>\n      <td>0.0</td>\n      <td>0.0</td>\n      <td>STON/O2. 3101282</td>\n      <td>-0.488854</td>\n      <td>B96 B98</td>\n      <td>S</td>\n    </tr>\n    <tr>\n      <th>3</th>\n      <td>4.0</td>\n      <td>1.0</td>\n      <td>1.0</td>\n      <td>Futrelle, Mrs. Jacques Heath (Lily May Peel)</td>\n      <td>female</td>\n      <td>0.365167</td>\n      <td>1.0</td>\n      <td>0.0</td>\n      <td>113803</td>\n      <td>0.420730</td>\n      <td>C123</td>\n      <td>S</td>\n    </tr>\n    <tr>\n      <th>4</th>\n      <td>5.0</td>\n      <td>0.0</td>\n      <td>3.0</td>\n      <td>Allen, Mr. William Henry</td>\n      <td>male</td>\n      <td>0.365167</td>\n      <td>0.0</td>\n      <td>0.0</td>\n      <td>373450</td>\n      <td>-0.486337</td>\n      <td>B96 B98</td>\n      <td>S</td>\n    </tr>\n  </tbody>\n</table>\n</div>"
     },
     "execution_count": 12,
     "metadata": {},
     "output_type": "execute_result"
    }
   ],
   "source": [
    "from sklearn.impute import SimpleImputer\n",
    "\n",
    "imputer = SimpleImputer(strategy='most_frequent')\n",
    "X = imputer.fit_transform(data.select_dtypes(include='object'))\n",
    "X = pd.DataFrame(X, columns=data.select_dtypes(include='object').columns)\n",
    "\n",
    "# replace all columns with imputed values\n",
    "data[data.select_dtypes(include='object').columns] = X\n",
    "data.head()"
   ],
   "metadata": {
    "collapsed": false,
    "pycharm": {
     "name": "#%%\n"
    }
   }
  },
  {
   "cell_type": "code",
   "execution_count": 6,
   "outputs": [
    {
     "data": {
      "text/plain": "0"
     },
     "execution_count": 6,
     "metadata": {},
     "output_type": "execute_result"
    }
   ],
   "source": [
    "# fix data types since imputation changes them\n",
    "data = data.astype({'Sex': 'category',\n",
    "                    'Survived': 'category',\n",
    "                    'Cabin': 'category',\n",
    "                    'Embarked': 'category'})\n",
    "# check for any missing values in the dataset\n",
    "data.isnull().sum().sum()"
   ],
   "metadata": {
    "collapsed": false,
    "pycharm": {
     "name": "#%%\n"
    }
   }
  },
  {
   "cell_type": "markdown",
   "source": [
    " ### Discretization or Binning\n",
    "\n",
    "Simple example of discretization using Pandas cut function. See [here](https://pandas.pydata.org/pandas-docs/stable/reference/api/pandas.cut.html) for more information."
   ],
   "metadata": {
    "collapsed": false,
    "pycharm": {
     "name": "#%% md\n"
    }
   }
  },
  {
   "cell_type": "code",
   "execution_count": 13,
   "outputs": [
    {
     "data": {
      "text/plain": "(-0.659, 2.79]    871\n(2.79, 6.229]      17\n(6.229, 9.667]      3\nName: Fare, dtype: int64"
     },
     "execution_count": 13,
     "metadata": {},
     "output_type": "execute_result"
    }
   ],
   "source": [
    "import pandas as pd\n",
    "import numpy as np\n",
    "\n",
    "pd.cut(data['Fare'], bins=3).value_counts()"
   ],
   "metadata": {
    "collapsed": false,
    "pycharm": {
     "name": "#%%\n"
    }
   }
  },
  {
   "cell_type": "markdown",
   "source": [
    "## Feature Selection\n",
    "\n",
    "To illustrate feature selection we will compute the chi-squared statistic for the Sex and Survived columns and PClass and Survived columns. We'll begin by creating contingency tables for both variables.\n",
    "\n",
    "As learned in previous courses the χ² - statistic is defined as:\n",
    "$\\chi^2 = \\sum_{i} \\frac{(E_i - O_i)^2}{E_i}$"
   ],
   "metadata": {
    "collapsed": false,
    "pycharm": {
     "name": "#%% md\n"
    }
   }
  },
  {
   "cell_type": "markdown",
   "source": [
    "### Manual Computation of χ² - value\n",
    "\n",
    "We will compute the chi-squared statistic manually using the contingency tables."
   ],
   "metadata": {
    "collapsed": false,
    "pycharm": {
     "name": "#%% md\n"
    }
   }
  },
  {
   "cell_type": "code",
   "execution_count": 14,
   "outputs": [
    {
     "data": {
      "text/plain": "Survived  0.0  1.0  All\nSex                    \nfemale     81  233  314\nmale      468  109  577\nAll       549  342  891",
      "text/html": "<div>\n<style scoped>\n    .dataframe tbody tr th:only-of-type {\n        vertical-align: middle;\n    }\n\n    .dataframe tbody tr th {\n        vertical-align: top;\n    }\n\n    .dataframe thead th {\n        text-align: right;\n    }\n</style>\n<table border=\"1\" class=\"dataframe\">\n  <thead>\n    <tr style=\"text-align: right;\">\n      <th>Survived</th>\n      <th>0.0</th>\n      <th>1.0</th>\n      <th>All</th>\n    </tr>\n    <tr>\n      <th>Sex</th>\n      <th></th>\n      <th></th>\n      <th></th>\n    </tr>\n  </thead>\n  <tbody>\n    <tr>\n      <th>female</th>\n      <td>81</td>\n      <td>233</td>\n      <td>314</td>\n    </tr>\n    <tr>\n      <th>male</th>\n      <td>468</td>\n      <td>109</td>\n      <td>577</td>\n    </tr>\n    <tr>\n      <th>All</th>\n      <td>549</td>\n      <td>342</td>\n      <td>891</td>\n    </tr>\n  </tbody>\n</table>\n</div>"
     },
     "execution_count": 14,
     "metadata": {},
     "output_type": "execute_result"
    }
   ],
   "source": [
    "O = pd.crosstab(data.Sex, data.Survived)\n",
    "# pandas set precision\n",
    "pd.crosstab(data.Sex, data.Survived, margins=True)"
   ],
   "metadata": {
    "collapsed": false,
    "pycharm": {
     "name": "#%%\n"
    }
   }
  },
  {
   "cell_type": "markdown",
   "source": [
    "The probability of survival for a passenger is $342/891 = 38.38\\%$\n",
    "The total of female passengers is 314, and that of male passengers is 577.\n",
    "\n",
    "So, based on the above probability we would expect:\n",
    " * $314 \\cdot 342/891 = 120.5$ female passenger to survive and\n",
    " * $577 \\cdot 342/891 = 221.5$ male passengers to survive.\n",
    "\n",
    "An analog calculation can be done for not surviving. With some data manipulation we can compute the expected counts using Numpy."
   ],
   "metadata": {
    "collapsed": false,
    "pycharm": {
     "name": "#%% md\n"
    }
   }
  },
  {
   "cell_type": "code",
   "execution_count": 16,
   "outputs": [
    {
     "data": {
      "text/plain": "Survived      0      1\nSex                   \nfemale   193.47 120.53\nmale     355.53 221.47",
      "text/html": "<div>\n<style scoped>\n    .dataframe tbody tr th:only-of-type {\n        vertical-align: middle;\n    }\n\n    .dataframe tbody tr th {\n        vertical-align: top;\n    }\n\n    .dataframe thead th {\n        text-align: right;\n    }\n</style>\n<table border=\"1\" class=\"dataframe\">\n  <thead>\n    <tr style=\"text-align: right;\">\n      <th>Survived</th>\n      <th>0</th>\n      <th>1</th>\n    </tr>\n    <tr>\n      <th>Sex</th>\n      <th></th>\n      <th></th>\n    </tr>\n  </thead>\n  <tbody>\n    <tr>\n      <th>female</th>\n      <td>193.47</td>\n      <td>120.53</td>\n    </tr>\n    <tr>\n      <th>male</th>\n      <td>355.53</td>\n      <td>221.47</td>\n    </tr>\n  </tbody>\n</table>\n</div>"
     },
     "execution_count": 16,
     "metadata": {},
     "output_type": "execute_result"
    }
   ],
   "source": [
    "pd.set_option('display.float_format', lambda x: '%.2f' % x)\n",
    "E = pd.DataFrame(\n",
    "    np.reshape(\n",
    "        np.tile(data.Sex.value_counts().sort_index().to_numpy(), 2) *\n",
    "        np.repeat(pd.crosstab(data.Sex, data.Survived, margins=True, normalize=True).loc['All'].to_numpy()[:2], 2),\n",
    "        (2, -1)),\n",
    "    columns=['female', 'male']).T\n",
    "E.index.name = 'Sex'\n",
    "E.columns.name = 'Survived'\n",
    "E"
   ],
   "metadata": {
    "collapsed": false,
    "pycharm": {
     "name": "#%%\n"
    }
   }
  },
  {
   "cell_type": "markdown",
   "source": [
    "Compute $\\frac{(E_i - O_i)^2}{E_i}$ for every combination of `Sex` and `Survived`."
   ],
   "metadata": {
    "collapsed": false,
    "pycharm": {
     "name": "#%% md\n"
    }
   }
  },
  {
   "cell_type": "code",
   "execution_count": 17,
   "outputs": [
    {
     "data": {
      "text/plain": "Survived     0      1\nSex                  \nfemale   65.39 104.96\nmale     35.58  57.12",
      "text/html": "<div>\n<style scoped>\n    .dataframe tbody tr th:only-of-type {\n        vertical-align: middle;\n    }\n\n    .dataframe tbody tr th {\n        vertical-align: top;\n    }\n\n    .dataframe thead th {\n        text-align: right;\n    }\n</style>\n<table border=\"1\" class=\"dataframe\">\n  <thead>\n    <tr style=\"text-align: right;\">\n      <th>Survived</th>\n      <th>0</th>\n      <th>1</th>\n    </tr>\n    <tr>\n      <th>Sex</th>\n      <th></th>\n      <th></th>\n    </tr>\n  </thead>\n  <tbody>\n    <tr>\n      <th>female</th>\n      <td>65.39</td>\n      <td>104.96</td>\n    </tr>\n    <tr>\n      <th>male</th>\n      <td>35.58</td>\n      <td>57.12</td>\n    </tr>\n  </tbody>\n</table>\n</div>"
     },
     "execution_count": 17,
     "metadata": {},
     "output_type": "execute_result"
    }
   ],
   "source": [
    "(E - O) ** 2 / E"
   ],
   "metadata": {
    "collapsed": false,
    "pycharm": {
     "name": "#%%\n"
    }
   }
  },
  {
   "cell_type": "markdown",
   "source": [
    "We now compute the χ²-value for the `Sex` feature in relation to the `Survived` feature by summing all values.\n",
    "\n",
    "A χ²-value of $0$ means the variables `Sex` and `Survived` are completely independent. In other words: if the expected values and observed values are the same there is no influence of `Sex` on `Survived`. This is clearly not the case in the distaster that struck Titanic. We know that female passenger were saved more than to be expected. 'Women and children first!'"
   ],
   "metadata": {
    "collapsed": false,
    "pycharm": {
     "name": "#%% md\n"
    }
   }
  },
  {
   "cell_type": "code",
   "execution_count": 18,
   "outputs": [
    {
     "name": "stdout",
     "output_type": "stream",
     "text": [
      "χ² = 263.05\n"
     ]
    }
   ],
   "source": [
    "χ = ((E - O) ** 2 / E).to_numpy().sum()\n",
    "print(f'χ² = {χ:.2f}')"
   ],
   "metadata": {
    "collapsed": false,
    "pycharm": {
     "name": "#%%\n"
    }
   }
  },
  {
   "cell_type": "markdown",
   "source": [
    "### Computute χ² - value using Scikit-Learn"
   ],
   "metadata": {
    "collapsed": false,
    "pycharm": {
     "name": "#%% md\n"
    }
   }
  },
  {
   "cell_type": "markdown",
   "source": [
    "Let's compute the χ² using Sci-kit learn `chi2`-function and compare that value to our own value."
   ],
   "metadata": {
    "collapsed": false,
    "pycharm": {
     "name": "#%% md\n"
    }
   }
  },
  {
   "cell_type": "code",
   "execution_count": 41,
   "outputs": [
    {
     "data": {
      "text/plain": "χ²        263.05\np-value     0.00\ndtype: float64"
     },
     "execution_count": 41,
     "metadata": {},
     "output_type": "execute_result"
    }
   ],
   "source": [
    "from sklearn.feature_selection import chi2\n",
    "\n",
    "X = pd.get_dummies(data.Sex)  # encode data in one-hot encoding\n",
    "y = data.Survived\n",
    "pd.DataFrame(chi2(X, y), index=['χ²', 'p-value'], columns=X.columns).sum(axis=1)"
   ],
   "metadata": {
    "collapsed": false,
    "pycharm": {
     "name": "#%%\n"
    }
   }
  },
  {
   "cell_type": "markdown",
   "source": [
    "Do the same for the `Pclass` feature and compare it to the `Sex` feature."
   ],
   "metadata": {
    "collapsed": false,
    "pycharm": {
     "name": "#%% md\n"
    }
   }
  },
  {
   "cell_type": "code",
   "execution_count": 40,
   "outputs": [
    {
     "data": {
      "text/plain": "χ²        102.89\np-value     0.01\ndtype: float64"
     },
     "execution_count": 40,
     "metadata": {},
     "output_type": "execute_result"
    }
   ],
   "source": [
    "X = pd.get_dummies(data.Pclass)\n",
    "y = data.Survived\n",
    "pd.DataFrame(chi2(X, y), index=['χ²', 'p-value'], columns=X.columns).sum(axis=1)"
   ],
   "metadata": {
    "collapsed": false,
    "pycharm": {
     "name": "#%%\n"
    }
   }
  },
  {
   "cell_type": "markdown",
   "source": [
    "### Manual computation of F-value\n",
    "See https://timeseriesreasoning.com/contents/f-test-for-regression-analysis/ for more information."
   ],
   "metadata": {
    "collapsed": false,
    "pycharm": {
     "name": "#%% md\n"
    }
   }
  },
  {
   "cell_type": "code",
   "execution_count": 169,
   "outputs": [
    {
     "name": "stdout",
     "output_type": "stream",
     "text": [
      "model 1: y_hat = -0.11\n",
      "model 2: y_hat = -0.11 + 0.08 * x\n",
      "RSS_1 = 303.51, RSS_2 = 297.85, F = 16.52, N = 871, k1 = 1, k2 = 2\n"
     ]
    }
   ],
   "source": [
    "from sklearn.linear_model import LinearRegression\n",
    "\n",
    "X = data[['Age']]\n",
    "y = data.Fare\n",
    "\n",
    "# standardize data\n",
    "X = (X - X.mean()) / X.std()\n",
    "y = (y - y.mean()) / y.std()\n",
    "\n",
    "# remove outliers using standard deviation\n",
    "X = X[(np.abs(y - y.mean()) <= (3 * y.std()))]\n",
    "y = y[(np.abs(y - y.mean()) <= (3 * y.std()))]\n",
    "\n",
    "# model 1\n",
    "k1 = 1\n",
    "y_hat = np.mean(y)\n",
    "RSS_1 = np.sum((y - y_hat) ** 2)\n",
    "# model 2\n",
    "model = LinearRegression()\n",
    "model.fit(X, y)\n",
    "k2 = 2\n",
    "y_hat = model.predict(X)\n",
    "RSS_2 = np.sum((y - y_hat) ** 2)\n",
    "\n",
    "N = len(y)\n",
    "\n",
    "# compute F-value\n",
    "F = ((RSS_1 - RSS_2) / (k2 - k1)) / (RSS_2 / (N - k2))\n",
    "print('model 1: y_hat = {:.2f}'.format(y_hat.mean()))\n",
    "print('model 2: y_hat = {:.2f} + {:.2f} * x'.format(model.intercept_, model.coef_[0]))\n",
    "print(f'RSS_1 = {RSS_1:.2f}, RSS_2 = {RSS_2:.2f}, F = {F:.2f}, N = {N}, k1 = {k1}, k2 = {k2}')"
   ],
   "metadata": {
    "collapsed": false,
    "pycharm": {
     "name": "#%%\n"
    }
   }
  },
  {
   "cell_type": "code",
   "execution_count": 165,
   "outputs": [
    {
     "data": {
      "text/plain": "<Figure size 720x432 with 1 Axes>",
      "image/png": "[encoded data removed]"
     },
     "metadata": {
      "needs_background": "light"
     },
     "output_type": "display_data"
    }
   ],
   "source": [
    "from matplotlib import pyplot as plt\n",
    "\n",
    "fig, ax = plt.subplots(figsize=(10, 6))\n",
    "ax.scatter(X, y, color='black', marker='o', s=50, alpha=0.1)\n",
    "ax.axhline(np.mean(y), color='r', label='intercept model')\n",
    "ax.plot(X, y_hat, color='b', label='linear regression model')\n",
    "ax.set_xlabel('Age')\n",
    "ax.set_ylabel('Fare')\n",
    "ax.legend()\n",
    "_ = ax.set_title('Standardized Fare vs Age with outliers removed')"
   ],
   "metadata": {
    "collapsed": false,
    "pycharm": {
     "name": "#%%\n"
    }
   }
  },
  {
   "cell_type": "markdown",
   "source": [
    "### Compute F-value using Scikit-Learn"
   ],
   "metadata": {
    "collapsed": false,
    "pycharm": {
     "name": "#%% md\n"
    }
   }
  },
  {
   "cell_type": "code",
   "execution_count": 170,
   "outputs": [
    {
     "data": {
      "text/plain": "(array([16.52432203]), array([5.23852205e-05]))"
     },
     "execution_count": 170,
     "metadata": {},
     "output_type": "execute_result"
    }
   ],
   "source": [
    "\n",
    "# compute F-value using Sci-kit learn\n",
    "from sklearn.feature_selection import f_regression\n",
    "\n",
    "X = data[['Age']]\n",
    "y = data.Fare\n",
    "\n",
    "# standardize data\n",
    "X = (X - X.mean()) / X.std()\n",
    "y = (y - y.mean()) / y.std()\n",
    "\n",
    "# remove outliers using standard deviation\n",
    "X = X[(np.abs(y - y.mean()) <= (3 * y.std()))]\n",
    "y = y[(np.abs(y - y.mean()) <= (3 * y.std()))]\n",
    "\n",
    "f_regression(X, y)\n",
    "# or f_classify(X, y) if y is categorical"
   ],
   "metadata": {
    "collapsed": false,
    "pycharm": {
     "name": "#%%\n"
    }
   }
  },
  {
   "cell_type": "code",
   "execution_count": 172,
   "outputs": [
    {
     "data": {
      "text/plain": "(array([646.87154422]), array([4.19604346e-107]))"
     },
     "execution_count": 172,
     "metadata": {},
     "output_type": "execute_result"
    }
   ],
   "source": [
    "X = data[['Pclass']]\n",
    "y = data.Fare\n",
    "\n",
    "# standardize data\n",
    "X = (X - X.mean()) / X.std()\n",
    "y = (y - y.mean()) / y.std()\n",
    "\n",
    "# remove outliers using standard deviation\n",
    "X = X[(np.abs(y - y.mean()) <= (3 * y.std()))]\n",
    "y = y[(np.abs(y - y.mean()) <= (3 * y.std()))]\n",
    "\n",
    "f_regression(X, y)"
   ],
   "metadata": {
    "collapsed": false,
    "pycharm": {
     "name": "#%%\n"
    }
   }
  },
  {
   "cell_type": "markdown",
   "source": [
    "Comparing both F-values we see that the F-value for `Sex` is higher than that of `Pclass` which means one would prefer the `Sex` feature over the `Pclass` feature.\n",
    "\n",
    "Using the following code we can select the features in the top 40% of the F-values.\n"
   ],
   "metadata": {
    "collapsed": false,
    "pycharm": {
     "name": "#%% md\n"
    }
   }
  },
  {
   "cell_type": "code",
   "execution_count": 91,
   "outputs": [
    {
     "data": {
      "text/plain": "   Pclass  Sex  Fare  Cabin\n0       3    1     7     47\n1       1    0    71     81\n2       3    0     8     47\n3       1    0    53     55\n4       3    1     8     47",
      "text/html": "<div>\n<style scoped>\n    .dataframe tbody tr th:only-of-type {\n        vertical-align: middle;\n    }\n\n    .dataframe tbody tr th {\n        vertical-align: top;\n    }\n\n    .dataframe thead th {\n        text-align: right;\n    }\n</style>\n<table border=\"1\" class=\"dataframe\">\n  <thead>\n    <tr style=\"text-align: right;\">\n      <th></th>\n      <th>Pclass</th>\n      <th>Sex</th>\n      <th>Fare</th>\n      <th>Cabin</th>\n    </tr>\n  </thead>\n  <tbody>\n    <tr>\n      <th>0</th>\n      <td>3</td>\n      <td>1</td>\n      <td>7</td>\n      <td>47</td>\n    </tr>\n    <tr>\n      <th>1</th>\n      <td>1</td>\n      <td>0</td>\n      <td>71</td>\n      <td>81</td>\n    </tr>\n    <tr>\n      <th>2</th>\n      <td>3</td>\n      <td>0</td>\n      <td>8</td>\n      <td>47</td>\n    </tr>\n    <tr>\n      <th>3</th>\n      <td>1</td>\n      <td>0</td>\n      <td>53</td>\n      <td>55</td>\n    </tr>\n    <tr>\n      <th>4</th>\n      <td>3</td>\n      <td>1</td>\n      <td>8</td>\n      <td>47</td>\n    </tr>\n  </tbody>\n</table>\n</div>"
     },
     "execution_count": 91,
     "metadata": {},
     "output_type": "execute_result"
    }
   ],
   "source": [
    "from sklearn.feature_selection import f_regression, SelectPercentile\n",
    "\n",
    "data_copy = data.copy()\n",
    "\n",
    "# replace all categorical columns with categorical codes\n",
    "for col in data_copy.drop(columns=['Survived']).select_dtypes(include='category').columns:\n",
    "    data_copy[col] = data_copy[col].cat.codes\n",
    "\n",
    "# Select the 5 best features\n",
    "selector = SelectPercentile(score_func=f_regression, percentile=40)\n",
    "X = selector.fit_transform(data_copy.select_dtypes(include=np.number), data_copy.Survived)\n",
    "best_features = selector.get_support(indices=True)\n",
    "data_copy.select_dtypes(include=np.number).iloc[:, best_features].head()\n"
   ],
   "metadata": {
    "collapsed": false,
    "pycharm": {
     "name": "#%%\n"
    }
   }
  }
 ],
 "metadata": {
  "kernelspec": {
   "display_name": "Python 3",
   "language": "python",
   "name": "python3"
  },
  "language_info": {
   "codemirror_mode": {
    "name": "ipython",
    "version": 2
   },
   "file_extension": ".py",
   "mimetype": "text/x-python",
   "name": "python",
   "nbconvert_exporter": "python",
   "pygments_lexer": "ipython2",
   "version": "2.7.6"
  }
 },
 "nbformat": 4,
 "nbformat_minor": 0
}