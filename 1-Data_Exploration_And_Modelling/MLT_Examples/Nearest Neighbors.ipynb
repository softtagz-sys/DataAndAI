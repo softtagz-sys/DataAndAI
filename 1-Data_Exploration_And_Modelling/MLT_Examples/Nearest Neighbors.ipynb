{
 "cells": [
  {
   "cell_type": "markdown",
   "source": [
    "# Connecteren met Google Sheets\n",
    "We gebruiken een Service Account van Google Cloud die we toegang geven tot de Google Sheet waarin onze gegevens zitten. Dankzij de opgeslagen credentials (key.json) kunnen we rechtstreeks aan de gegevens in de Sheet zonder dat we moeten inloggen.\n",
    "\n",
    "De sheet moet gedeeld worden met jupyter-google-sheets-service@second-replica-341913.iam.gserviceaccount.com."
   ],
   "metadata": {
    "collapsed": false,
    "pycharm": {
     "name": "#%% md\n"
    }
   }
  },
  {
   "cell_type": "code",
   "execution_count": 1,
   "outputs": [],
   "source": [
    "import gspread\n",
    "from oauth2client.service_account import ServiceAccountCredentials\n",
    "\n",
    "# The scope is always look like this so we did not need to change anything\n",
    "scope = ['https://spreadsheets.google.com/feeds', 'https://www.googleapis.com/auth/drive']\n",
    "# Name of our Service Account Key\n",
    "google_key_file = 'assets/key.json'\n",
    "credentials = ServiceAccountCredentials.from_json_keyfile_name(google_key_file, scope)\n",
    "gc = gspread.authorize(credentials)\n"
   ],
   "metadata": {
    "collapsed": false,
    "pycharm": {
     "name": "#%%\n"
    }
   }
  },
  {
   "cell_type": "markdown",
   "source": [
    "# Worksheet omzetten naar Pandas Dataframe"
   ],
   "metadata": {
    "collapsed": false,
    "pycharm": {
     "name": "#%% md\n"
    }
   }
  },
  {
   "cell_type": "code",
   "execution_count": 2,
   "outputs": [
    {
     "data": {
      "text/plain": "              Timestamp  \\\n0   10/02/2022 11:33:58   \n1   10/02/2022 11:37:44   \n2   10/02/2022 11:39:39   \n3   10/02/2022 11:40:33   \n4   10/02/2022 11:41:10   \n..                  ...   \n87  17/02/2022 12:19:54   \n88  17/02/2022 18:24:53   \n89  20/02/2022 17:58:30   \n90  21/02/2022 22:46:10   \n91  24/02/2022 14:40:51   \n\n   1. Wat was je score op de GapMinder test? Je hoeft je niet te schamen als het slecht was :-). De meeste mensen score vrij slecht.  Noteer de score hieronder als een breuk.  \\\n0                                                7/18                                                                                                                            \n1                                                3/18                                                                                                                            \n2                                               12/18                                                                                                                            \n3                                                5/18                                                                                                                            \n4                                                6/18                                                                                                                            \n..                                                ...                                                                                                                            \n87                                               8/18                                                                                                                            \n88                                               7/18                                                                                                                            \n89                                               5/18                                                                                                                            \n90                                              10/18                                                                                                                            \n91                                               7/18                                                                                                                            \n\n   2. Met welke hand schrijf je? 3. Wat is je schoenmaat?  \\\n0                         Rechts                       43   \n1                         Rechts                       42   \n2                         Rechts                       45   \n3                         Rechts                       44   \n4                         Rechts                       43   \n..                           ...                      ...   \n87                        Rechts                       45   \n88                        Rechts                       43   \n89                        Rechts                       43   \n90                        Rechts                       45   \n91                        Rechts                       42   \n\n   4. Wat is je lichaamslengte (in cm)? 5. Wat is je bloedgroep: AB0?  \\\n0                                   184                             O   \n1                                   163                  Weet ik niet   \n2                                   183                            AB   \n3                                   175                             A   \n4                                   173                             B   \n..                                  ...                           ...   \n87                                  188                             A   \n88                                  176                             B   \n89                                  181                  Weet ik niet   \n90                                  185                             A   \n91                                  184                  Weet ik niet   \n\n   6. Wat is de resusfactor van je bloedgroep?  \\\n0                                     positief   \n1                                 Weet ik niet   \n2                                     positief   \n3                                     positief   \n4                                     positief   \n..                                         ...   \n87                                    positief   \n88                                    positief   \n89                                Weet ik niet   \n90                                    positief   \n91                                Weet ik niet   \n\n   7. Hoeveel broers / zussen heb je?  \\\n0                                   5   \n1                                   1   \n2                                   2   \n3                                   2   \n4                                   3   \n..                                ...   \n87                                  1   \n88                                  2   \n89                                  1   \n90                                  1   \n91                                  3   \n\n   8. Vink alle beweringen aan die volgens aannemelijk zijn.  \\\n0   De tsunami van 2004 in de Indische Oceaan was ...          \n1    Prinses Diana kwam niet per ongeluk om het leven          \n2   Prinses Diana kwam niet per ongeluk om het lev...          \n3   De wereld wordt eigenlijk gecontroleerd door e...          \n4   De wereld wordt eigenlijk gecontroleerd door e...          \n..                                                ...          \n87                                                             \n88                                                             \n89                                                             \n90                                                             \n91                                                             \n\n     9. Welke rijbewijzen heb je al volledig behaald?  ...  \\\n0                                Categorie B: Wagens.  ...   \n1   Categorie AM: Bromfietsen met een maximumsnelh...  ...   \n2   Categorie AM: Bromfietsen met een maximumsnelh...  ...   \n3   Categorie AM: Bromfietsen met een maximumsnelh...  ...   \n4                                Categorie B: Wagens.  ...   \n..                                                ...  ...   \n87                               Categorie B: Wagens.  ...   \n88                               Categorie B: Wagens.  ...   \n89                               Categorie B: Wagens.  ...   \n90                               Categorie B: Wagens.  ...   \n91                               Categorie B: Wagens.  ...   \n\n   23c. Weerloze wezens moeten beschermd worden (0 helemaal oneens  –  10 helemaal eens)  \\\n0                                                   8                                      \n1                                                  10                                      \n2                                                   7                                      \n3                                                  10                                      \n4                                                  10                                      \n..                                                ...                                      \n87                                                  6                                      \n88                                                  4                                      \n89                                                 10                                      \n90                                                  9                                      \n91                                                  7                                      \n\n   23d. Je kunt best altijd het voorbeeld van een professional volgen (0 helemaal oneens  –  10 helemaal eens)  \\\n0                                                   6                                                            \n1                                                   6                                                            \n2                                                   7                                                            \n3                                                  10                                                            \n4                                                   7                                                            \n..                                                ...                                                            \n87                                                  7                                                            \n88                                                  9                                                            \n89                                                  6                                                            \n90                                                  7                                                            \n91                                                  7                                                            \n\n   23e. Wetenschappelijk onderzoek op ongeboren embryo’s is noodzakelijk (0 helemaal oneens  –  10 helemaal eens)  \\\n0                                                   5                                                               \n1                                                   7                                                               \n2                                                  10                                                               \n3                                                  10                                                               \n4                                                   7                                                               \n..                                                ...                                                               \n87                                                  6                                                               \n88                                                  3                                                               \n89                                                  8                                                               \n90                                                  7                                                               \n91                                                  8                                                               \n\n   23f. Vrijheid is belangrijker dan gelijkheid (0 helemaal oneens  –  10 helemaal eens)  \\\n0                                                   4                                      \n1                                                   3                                      \n2                                                   6                                      \n3                                                   0                                      \n4                                                   2                                      \n..                                                ...                                      \n87                                                  4                                      \n88                                                  9                                      \n89                                                  5                                      \n90                                                  0                                      \n91                                                  7                                      \n\n   24. Welk zoogdier zou je als klasmascotte verkiezen? Je hebt de keuze uit: Panter, Poema, Vos, Wolf, Bruine beer, Bever, Das, Bizon, Wasbeer, Otter. Sorteer ze van 1 tot 10.  \\\n0   1=Bever,2=Wasbeer,3=Otter,4=Wolf,5=Poema,6=Pan...                                                                                                                              \n1   1=Bever,2=Wolf,3=Bizon,4=Otter,5=Panter,6=Poem...                                                                                                                              \n2   1=Bruine beer,2=Poema,3=Panter,4=Wolf,5=Vos,6=...                                                                                                                              \n3   1=Wasbeer,2=Wolf,3=Bruine beer,4=Das,5=Vos,6=B...                                                                                                                              \n4   1=Wolf,2=Vos,3=Bruine beer,4=Bizon,5=Panter,6=...                                                                                                                              \n..                                                ...                                                                                                                              \n87  1=Otter,2=Wasbeer,3=Vos,4=Bruine beer,5=Bever,...                                                                                                                              \n88  1=Poema,2=Panter,3=Wolf,4=Bruine beer,5=Bizon,...                                                                                                                              \n89  1=Bruine beer,2=Wolf,3=Bizon,4=Wasbeer,5=Otter...                                                                                                                              \n90  1=Wolf,2=Bruine beer,3=Panter,4=Vos,5=Poema,6=...                                                                                                                              \n91  1=Otter,2=Bruine beer,3=Wolf,4=Vos,5=Panter,6=...                                                                                                                              \n\n   25. Wat is volgens jou het zwaarste vak uit het eerste jaar?  \\\n0                                        Management 1             \n1                                        Management 1             \n2                                        Management 1             \n3                                        Management 1             \n4                                        Management 1             \n..                                                ...             \n87                                        Netwerken 1             \n88                                     Data science 1             \n89                              Programmeren 1 - Java             \n90                                       Management 1             \n91                                     Data science 1             \n\n   26. Welke vak uit het eerste jaar TI vind je het meest  boeiend?  \\\n0                                      Data science 1                 \n1                                  Computersystemen 1                 \n2                               Programmeren 1 - Java                 \n3                                      Data science 1                 \n4                                      Data science 1                 \n..                                                ...                 \n87                                     Data science 1                 \n88                              Programmeren 1 - Java                 \n89                              Programmeren 1 - Java                 \n90                              Programmeren 1 - Java                 \n91                                  User interfaces 1                 \n\n   27. In het hoger onderwijs wordt 1 studiepunt gelijkgesteld aan 25 uren studiebelasting.  Wat is jou inschatting?\\t  \\\n0                                          16-20 uren                                                                    \n1                                          <= 10 uren                                                                    \n2                                          16-20 uren                                                                    \n3                                          <= 10 uren                                                                    \n4                                          <= 10 uren                                                                    \n..                                                ...                                                                    \n87                                         16-20 uren                                                                    \n88                                         26-30 uren                                                                    \n89                                         11-15 uren                                                                    \n90                                         21-25 uren                                                                    \n91                                         <= 10 uren                                                                    \n\n   28. Dit is de makkelijkste vraag: je hoeft helemaal niets in te vullen.  \\\n0                                                                            \n1                                                                            \n2                                          Oke dank u                        \n3                                                   2                        \n4                                              nee :)                        \n..                                                ...                        \n87                                     helemaal niets                        \n88                                          Okey haha                        \n89                                                                           \n90                                     helemaal niets                        \n91                                                                           \n\n   29. Ik geef toestemming om deze gegevens -geanonimiseerd-  te gebruiken binnen de lessen Data Science van de opleiding Toegepaste Informatica op KdG.  \n0                                                  Ja                                                                                                     \n1                                                  Ja                                                                                                     \n2                                                  Ja                                                                                                     \n3                                                  Ja                                                                                                     \n4                                                  Ja                                                                                                     \n..                                                ...                                                                                                     \n87                                                 Ja                                                                                                     \n88                                                 Ja                                                                                                     \n89                                                 Ja                                                                                                     \n90                                                 Ja                                                                                                     \n91                                                 Ja                                                                                                     \n\n[92 rows x 36 columns]",
      "text/html": "<div>\n<style scoped>\n    .dataframe tbody tr th:only-of-type {\n        vertical-align: middle;\n    }\n\n    .dataframe tbody tr th {\n        vertical-align: top;\n    }\n\n    .dataframe thead th {\n        text-align: right;\n    }\n</style>\n<table border=\"1\" class=\"dataframe\">\n  <thead>\n    <tr style=\"text-align: right;\">\n      <th></th>\n      <th>Timestamp</th>\n      <th>1. Wat was je score op de GapMinder test? Je hoeft je niet te schamen als het slecht was :-). De meeste mensen score vrij slecht.  Noteer de score hieronder als een breuk.</th>\n      <th>2. Met welke hand schrijf je?</th>\n      <th>3. Wat is je schoenmaat?</th>\n      <th>4. Wat is je lichaamslengte (in cm)?</th>\n      <th>5. Wat is je bloedgroep: AB0?</th>\n      <th>6. Wat is de resusfactor van je bloedgroep?</th>\n      <th>7. Hoeveel broers / zussen heb je?</th>\n      <th>8. Vink alle beweringen aan die volgens aannemelijk zijn.</th>\n      <th>9. Welke rijbewijzen heb je al volledig behaald?</th>\n      <th>...</th>\n      <th>23c. Weerloze wezens moeten beschermd worden (0 helemaal oneens  –  10 helemaal eens)</th>\n      <th>23d. Je kunt best altijd het voorbeeld van een professional volgen (0 helemaal oneens  –  10 helemaal eens)</th>\n      <th>23e. Wetenschappelijk onderzoek op ongeboren embryo’s is noodzakelijk (0 helemaal oneens  –  10 helemaal eens)</th>\n      <th>23f. Vrijheid is belangrijker dan gelijkheid (0 helemaal oneens  –  10 helemaal eens)</th>\n      <th>24. Welk zoogdier zou je als klasmascotte verkiezen? Je hebt de keuze uit: Panter, Poema, Vos, Wolf, Bruine beer, Bever, Das, Bizon, Wasbeer, Otter. Sorteer ze van 1 tot 10.</th>\n      <th>25. Wat is volgens jou het zwaarste vak uit het eerste jaar?</th>\n      <th>26. Welke vak uit het eerste jaar TI vind je het meest  boeiend?</th>\n      <th>27. In het hoger onderwijs wordt 1 studiepunt gelijkgesteld aan 25 uren studiebelasting.  Wat is jou inschatting?\\t</th>\n      <th>28. Dit is de makkelijkste vraag: je hoeft helemaal niets in te vullen.</th>\n      <th>29. Ik geef toestemming om deze gegevens -geanonimiseerd-  te gebruiken binnen de lessen Data Science van de opleiding Toegepaste Informatica op KdG.</th>\n    </tr>\n  </thead>\n  <tbody>\n    <tr>\n      <th>0</th>\n      <td>10/02/2022 11:33:58</td>\n      <td>7/18</td>\n      <td>Rechts</td>\n      <td>43</td>\n      <td>184</td>\n      <td>O</td>\n      <td>positief</td>\n      <td>5</td>\n      <td>De tsunami van 2004 in de Indische Oceaan was ...</td>\n      <td>Categorie B: Wagens.</td>\n      <td>...</td>\n      <td>8</td>\n      <td>6</td>\n      <td>5</td>\n      <td>4</td>\n      <td>1=Bever,2=Wasbeer,3=Otter,4=Wolf,5=Poema,6=Pan...</td>\n      <td>Management 1</td>\n      <td>Data science 1</td>\n      <td>16-20 uren</td>\n      <td></td>\n      <td>Ja</td>\n    </tr>\n    <tr>\n      <th>1</th>\n      <td>10/02/2022 11:37:44</td>\n      <td>3/18</td>\n      <td>Rechts</td>\n      <td>42</td>\n      <td>163</td>\n      <td>Weet ik niet</td>\n      <td>Weet ik niet</td>\n      <td>1</td>\n      <td>Prinses Diana kwam niet per ongeluk om het leven</td>\n      <td>Categorie AM: Bromfietsen met een maximumsnelh...</td>\n      <td>...</td>\n      <td>10</td>\n      <td>6</td>\n      <td>7</td>\n      <td>3</td>\n      <td>1=Bever,2=Wolf,3=Bizon,4=Otter,5=Panter,6=Poem...</td>\n      <td>Management 1</td>\n      <td>Computersystemen 1</td>\n      <td>&lt;= 10 uren</td>\n      <td></td>\n      <td>Ja</td>\n    </tr>\n    <tr>\n      <th>2</th>\n      <td>10/02/2022 11:39:39</td>\n      <td>12/18</td>\n      <td>Rechts</td>\n      <td>45</td>\n      <td>183</td>\n      <td>AB</td>\n      <td>positief</td>\n      <td>2</td>\n      <td>Prinses Diana kwam niet per ongeluk om het lev...</td>\n      <td>Categorie AM: Bromfietsen met een maximumsnelh...</td>\n      <td>...</td>\n      <td>7</td>\n      <td>7</td>\n      <td>10</td>\n      <td>6</td>\n      <td>1=Bruine beer,2=Poema,3=Panter,4=Wolf,5=Vos,6=...</td>\n      <td>Management 1</td>\n      <td>Programmeren 1 - Java</td>\n      <td>16-20 uren</td>\n      <td>Oke dank u</td>\n      <td>Ja</td>\n    </tr>\n    <tr>\n      <th>3</th>\n      <td>10/02/2022 11:40:33</td>\n      <td>5/18</td>\n      <td>Rechts</td>\n      <td>44</td>\n      <td>175</td>\n      <td>A</td>\n      <td>positief</td>\n      <td>2</td>\n      <td>De wereld wordt eigenlijk gecontroleerd door e...</td>\n      <td>Categorie AM: Bromfietsen met een maximumsnelh...</td>\n      <td>...</td>\n      <td>10</td>\n      <td>10</td>\n      <td>10</td>\n      <td>0</td>\n      <td>1=Wasbeer,2=Wolf,3=Bruine beer,4=Das,5=Vos,6=B...</td>\n      <td>Management 1</td>\n      <td>Data science 1</td>\n      <td>&lt;= 10 uren</td>\n      <td>2</td>\n      <td>Ja</td>\n    </tr>\n    <tr>\n      <th>4</th>\n      <td>10/02/2022 11:41:10</td>\n      <td>6/18</td>\n      <td>Rechts</td>\n      <td>43</td>\n      <td>173</td>\n      <td>B</td>\n      <td>positief</td>\n      <td>3</td>\n      <td>De wereld wordt eigenlijk gecontroleerd door e...</td>\n      <td>Categorie B: Wagens.</td>\n      <td>...</td>\n      <td>10</td>\n      <td>7</td>\n      <td>7</td>\n      <td>2</td>\n      <td>1=Wolf,2=Vos,3=Bruine beer,4=Bizon,5=Panter,6=...</td>\n      <td>Management 1</td>\n      <td>Data science 1</td>\n      <td>&lt;= 10 uren</td>\n      <td>nee :)</td>\n      <td>Ja</td>\n    </tr>\n    <tr>\n      <th>...</th>\n      <td>...</td>\n      <td>...</td>\n      <td>...</td>\n      <td>...</td>\n      <td>...</td>\n      <td>...</td>\n      <td>...</td>\n      <td>...</td>\n      <td>...</td>\n      <td>...</td>\n      <td>...</td>\n      <td>...</td>\n      <td>...</td>\n      <td>...</td>\n      <td>...</td>\n      <td>...</td>\n      <td>...</td>\n      <td>...</td>\n      <td>...</td>\n      <td>...</td>\n      <td>...</td>\n    </tr>\n    <tr>\n      <th>87</th>\n      <td>17/02/2022 12:19:54</td>\n      <td>8/18</td>\n      <td>Rechts</td>\n      <td>45</td>\n      <td>188</td>\n      <td>A</td>\n      <td>positief</td>\n      <td>1</td>\n      <td></td>\n      <td>Categorie B: Wagens.</td>\n      <td>...</td>\n      <td>6</td>\n      <td>7</td>\n      <td>6</td>\n      <td>4</td>\n      <td>1=Otter,2=Wasbeer,3=Vos,4=Bruine beer,5=Bever,...</td>\n      <td>Netwerken 1</td>\n      <td>Data science 1</td>\n      <td>16-20 uren</td>\n      <td>helemaal niets</td>\n      <td>Ja</td>\n    </tr>\n    <tr>\n      <th>88</th>\n      <td>17/02/2022 18:24:53</td>\n      <td>7/18</td>\n      <td>Rechts</td>\n      <td>43</td>\n      <td>176</td>\n      <td>B</td>\n      <td>positief</td>\n      <td>2</td>\n      <td></td>\n      <td>Categorie B: Wagens.</td>\n      <td>...</td>\n      <td>4</td>\n      <td>9</td>\n      <td>3</td>\n      <td>9</td>\n      <td>1=Poema,2=Panter,3=Wolf,4=Bruine beer,5=Bizon,...</td>\n      <td>Data science 1</td>\n      <td>Programmeren 1 - Java</td>\n      <td>26-30 uren</td>\n      <td>Okey haha</td>\n      <td>Ja</td>\n    </tr>\n    <tr>\n      <th>89</th>\n      <td>20/02/2022 17:58:30</td>\n      <td>5/18</td>\n      <td>Rechts</td>\n      <td>43</td>\n      <td>181</td>\n      <td>Weet ik niet</td>\n      <td>Weet ik niet</td>\n      <td>1</td>\n      <td></td>\n      <td>Categorie B: Wagens.</td>\n      <td>...</td>\n      <td>10</td>\n      <td>6</td>\n      <td>8</td>\n      <td>5</td>\n      <td>1=Bruine beer,2=Wolf,3=Bizon,4=Wasbeer,5=Otter...</td>\n      <td>Programmeren 1 - Java</td>\n      <td>Programmeren 1 - Java</td>\n      <td>11-15 uren</td>\n      <td></td>\n      <td>Ja</td>\n    </tr>\n    <tr>\n      <th>90</th>\n      <td>21/02/2022 22:46:10</td>\n      <td>10/18</td>\n      <td>Rechts</td>\n      <td>45</td>\n      <td>185</td>\n      <td>A</td>\n      <td>positief</td>\n      <td>1</td>\n      <td></td>\n      <td>Categorie B: Wagens.</td>\n      <td>...</td>\n      <td>9</td>\n      <td>7</td>\n      <td>7</td>\n      <td>0</td>\n      <td>1=Wolf,2=Bruine beer,3=Panter,4=Vos,5=Poema,6=...</td>\n      <td>Management 1</td>\n      <td>Programmeren 1 - Java</td>\n      <td>21-25 uren</td>\n      <td>helemaal niets</td>\n      <td>Ja</td>\n    </tr>\n    <tr>\n      <th>91</th>\n      <td>24/02/2022 14:40:51</td>\n      <td>7/18</td>\n      <td>Rechts</td>\n      <td>42</td>\n      <td>184</td>\n      <td>Weet ik niet</td>\n      <td>Weet ik niet</td>\n      <td>3</td>\n      <td></td>\n      <td>Categorie B: Wagens.</td>\n      <td>...</td>\n      <td>7</td>\n      <td>7</td>\n      <td>8</td>\n      <td>7</td>\n      <td>1=Otter,2=Bruine beer,3=Wolf,4=Vos,5=Panter,6=...</td>\n      <td>Data science 1</td>\n      <td>User interfaces 1</td>\n      <td>&lt;= 10 uren</td>\n      <td></td>\n      <td>Ja</td>\n    </tr>\n  </tbody>\n</table>\n<p>92 rows × 36 columns</p>\n</div>"
     },
     "execution_count": 2,
     "metadata": {},
     "output_type": "execute_result"
    }
   ],
   "source": [
    "import pandas as pd\n",
    "\n",
    "workbook = gc.open('Enquête Data Science 2022')\n",
    "sheet = workbook.get_worksheet(0)\n",
    "values = sheet.get_all_values()\n",
    "enquete_df = pd.DataFrame(values[1:], columns=values[0])\n",
    "enquete_df"
   ],
   "metadata": {
    "collapsed": false,
    "pycharm": {
     "name": "#%%\n"
    }
   }
  },
  {
   "cell_type": "markdown",
   "source": [
    "## We verwerken de gegevens verder tot meerdere dataframes"
   ],
   "metadata": {
    "collapsed": false,
    "pycharm": {
     "name": "#%% md\n"
    }
   }
  },
  {
   "cell_type": "code",
   "execution_count": 3,
   "outputs": [],
   "source": [
    "from scripts.enquete_scripts import *\n",
    "\n",
    "# door de rechtstreekse verbinding met Google Sheets zijn de datumformaten blijkbaar anders dan na download als CSV\n",
    "# ook worden multiple answers nu gesplitst met komma's en niet met punt-komma's bij download als CSV\n",
    "enquete_df, vragen_df, fruit_df, mascotte_df, complot_df, rijbewijzen_df, vervoer_df = preprocess(enquete_df)\n"
   ],
   "metadata": {
    "collapsed": false,
    "pycharm": {
     "name": "#%%\n"
    }
   }
  },
  {
   "cell_type": "code",
   "execution_count": 4,
   "outputs": [
    {
     "data": {
      "text/plain": "                                                       vraag         datatype\nvraag                                                                        \nTimestamp                                          Timestamp   datetime64[ns]\nv1          Wat was je score op de GapMinder test? Je hoe...          float64\nv2                                Met welke hand schrijf je?         category\nv3                                     Wat is je schoenmaat?          float64\nv4                         Wat is je lichaamslengte (in cm)?          float64\nv5                                Wat is je bloedgroep: AB0?         category\nv6                  Wat is de resusfactor van je bloedgroep?         category\nv7                           Hoeveel broers / zussen heb je?          float64\nv8          Vink alle beweringen aan die volgens aannemel...           object\nv9             Welke rijbewijzen heb je al volledig behaald?           object\nv10                                 Mijn domicilieadres ligt         category\nv11               Welke afstudeerrichting denk je te kiezen?         category\nv12                 Wat is je favoriete vrijetijdsbesteding?         category\nv13         Hoeveel uren wiskunde had je in het laatste j...            int64\nv14         Hoe belangrijk is het voor je om informaticus...         category\nv15         Hoeveel uur werk je gemiddelde per week voor ...  timedelta64[ns]\nv16         Wat is de afstand van thuis / kot naar de KdG...          float64\nv17                                  Hoe kom je naar school?           object\nv18         In 2012 bedroeg de opwarming van de aarde 0 8...   datetime64[ns]\nv19          Hoeveel zakgeld krijg je of verdien je zelf ...          float64\nv20a        Hoeveel stukken / porties fruit eet je gemidd...          float64\nv20         Rangschik volgende fruitsoorten in volgorde v...           object\nv21            Welk besturingssysteem gebruik je het liefst?         category\nv22         Stel dat je maar één app op je smartphone moc...         category\nv23a        Stelen is altijd verkeerd (0 oneens  –  10 he...            int64\nv23b        Een team weet het altijd beter dan een indivi...            int64\nv23c        Weerloze wezens moeten beschermd worden (0 he...            int64\nv23d        Je kunt best altijd het voorbeeld van een pro...            int64\nv23e        Wetenschappelijk onderzoek op ongeboren embry...            int64\nv23f        Vrijheid is belangrijker dan gelijkheid (0 he...          float64\nv24         Welk zoogdier zou je als klasmascotte verkiez...           object\nv25         Wat is volgens jou het zwaarste vak uit het e...         category\nv26         Welke vak uit het eerste jaar TI vind je het ...         category\nv27         In het hoger onderwijs wordt 1 studiepunt gel...          float64\nv28         Dit is de makkelijkste vraag: je hoeft helema...           object\nv29         Ik geef toestemming om deze gegevens -geanoni...         category",
      "text/html": "<div>\n<style scoped>\n    .dataframe tbody tr th:only-of-type {\n        vertical-align: middle;\n    }\n\n    .dataframe tbody tr th {\n        vertical-align: top;\n    }\n\n    .dataframe thead th {\n        text-align: right;\n    }\n</style>\n<table border=\"1\" class=\"dataframe\">\n  <thead>\n    <tr style=\"text-align: right;\">\n      <th></th>\n      <th>vraag</th>\n      <th>datatype</th>\n    </tr>\n    <tr>\n      <th>vraag</th>\n      <th></th>\n      <th></th>\n    </tr>\n  </thead>\n  <tbody>\n    <tr>\n      <th>Timestamp</th>\n      <td>Timestamp</td>\n      <td>datetime64[ns]</td>\n    </tr>\n    <tr>\n      <th>v1</th>\n      <td>Wat was je score op de GapMinder test? Je hoe...</td>\n      <td>float64</td>\n    </tr>\n    <tr>\n      <th>v2</th>\n      <td>Met welke hand schrijf je?</td>\n      <td>category</td>\n    </tr>\n    <tr>\n      <th>v3</th>\n      <td>Wat is je schoenmaat?</td>\n      <td>float64</td>\n    </tr>\n    <tr>\n      <th>v4</th>\n      <td>Wat is je lichaamslengte (in cm)?</td>\n      <td>float64</td>\n    </tr>\n    <tr>\n      <th>v5</th>\n      <td>Wat is je bloedgroep: AB0?</td>\n      <td>category</td>\n    </tr>\n    <tr>\n      <th>v6</th>\n      <td>Wat is de resusfactor van je bloedgroep?</td>\n      <td>category</td>\n    </tr>\n    <tr>\n      <th>v7</th>\n      <td>Hoeveel broers / zussen heb je?</td>\n      <td>float64</td>\n    </tr>\n    <tr>\n      <th>v8</th>\n      <td>Vink alle beweringen aan die volgens aannemel...</td>\n      <td>object</td>\n    </tr>\n    <tr>\n      <th>v9</th>\n      <td>Welke rijbewijzen heb je al volledig behaald?</td>\n      <td>object</td>\n    </tr>\n    <tr>\n      <th>v10</th>\n      <td>Mijn domicilieadres ligt</td>\n      <td>category</td>\n    </tr>\n    <tr>\n      <th>v11</th>\n      <td>Welke afstudeerrichting denk je te kiezen?</td>\n      <td>category</td>\n    </tr>\n    <tr>\n      <th>v12</th>\n      <td>Wat is je favoriete vrijetijdsbesteding?</td>\n      <td>category</td>\n    </tr>\n    <tr>\n      <th>v13</th>\n      <td>Hoeveel uren wiskunde had je in het laatste j...</td>\n      <td>int64</td>\n    </tr>\n    <tr>\n      <th>v14</th>\n      <td>Hoe belangrijk is het voor je om informaticus...</td>\n      <td>category</td>\n    </tr>\n    <tr>\n      <th>v15</th>\n      <td>Hoeveel uur werk je gemiddelde per week voor ...</td>\n      <td>timedelta64[ns]</td>\n    </tr>\n    <tr>\n      <th>v16</th>\n      <td>Wat is de afstand van thuis / kot naar de KdG...</td>\n      <td>float64</td>\n    </tr>\n    <tr>\n      <th>v17</th>\n      <td>Hoe kom je naar school?</td>\n      <td>object</td>\n    </tr>\n    <tr>\n      <th>v18</th>\n      <td>In 2012 bedroeg de opwarming van de aarde 0 8...</td>\n      <td>datetime64[ns]</td>\n    </tr>\n    <tr>\n      <th>v19</th>\n      <td>Hoeveel zakgeld krijg je of verdien je zelf ...</td>\n      <td>float64</td>\n    </tr>\n    <tr>\n      <th>v20a</th>\n      <td>Hoeveel stukken / porties fruit eet je gemidd...</td>\n      <td>float64</td>\n    </tr>\n    <tr>\n      <th>v20</th>\n      <td>Rangschik volgende fruitsoorten in volgorde v...</td>\n      <td>object</td>\n    </tr>\n    <tr>\n      <th>v21</th>\n      <td>Welk besturingssysteem gebruik je het liefst?</td>\n      <td>category</td>\n    </tr>\n    <tr>\n      <th>v22</th>\n      <td>Stel dat je maar één app op je smartphone moc...</td>\n      <td>category</td>\n    </tr>\n    <tr>\n      <th>v23a</th>\n      <td>Stelen is altijd verkeerd (0 oneens  –  10 he...</td>\n      <td>int64</td>\n    </tr>\n    <tr>\n      <th>v23b</th>\n      <td>Een team weet het altijd beter dan een indivi...</td>\n      <td>int64</td>\n    </tr>\n    <tr>\n      <th>v23c</th>\n      <td>Weerloze wezens moeten beschermd worden (0 he...</td>\n      <td>int64</td>\n    </tr>\n    <tr>\n      <th>v23d</th>\n      <td>Je kunt best altijd het voorbeeld van een pro...</td>\n      <td>int64</td>\n    </tr>\n    <tr>\n      <th>v23e</th>\n      <td>Wetenschappelijk onderzoek op ongeboren embry...</td>\n      <td>int64</td>\n    </tr>\n    <tr>\n      <th>v23f</th>\n      <td>Vrijheid is belangrijker dan gelijkheid (0 he...</td>\n      <td>float64</td>\n    </tr>\n    <tr>\n      <th>v24</th>\n      <td>Welk zoogdier zou je als klasmascotte verkiez...</td>\n      <td>object</td>\n    </tr>\n    <tr>\n      <th>v25</th>\n      <td>Wat is volgens jou het zwaarste vak uit het e...</td>\n      <td>category</td>\n    </tr>\n    <tr>\n      <th>v26</th>\n      <td>Welke vak uit het eerste jaar TI vind je het ...</td>\n      <td>category</td>\n    </tr>\n    <tr>\n      <th>v27</th>\n      <td>In het hoger onderwijs wordt 1 studiepunt gel...</td>\n      <td>float64</td>\n    </tr>\n    <tr>\n      <th>v28</th>\n      <td>Dit is de makkelijkste vraag: je hoeft helema...</td>\n      <td>object</td>\n    </tr>\n    <tr>\n      <th>v29</th>\n      <td>Ik geef toestemming om deze gegevens -geanoni...</td>\n      <td>category</td>\n    </tr>\n  </tbody>\n</table>\n</div>"
     },
     "execution_count": 4,
     "metadata": {},
     "output_type": "execute_result"
    }
   ],
   "source": [
    "vragen_df"
   ],
   "metadata": {
    "collapsed": false,
    "pycharm": {
     "name": "#%%\n"
    }
   }
  },
  {
   "cell_type": "markdown",
   "source": [
    "### Nearest Neighbors\n",
    "\n",
    "The intuition behind the KNN algorithm is one of the simplest of all the supervised machine learning algorithms. It simply calculates the distance of a new data point to **all other training data points**. The distance can be of any type e.g Euclidean or Manhattan etc. It then selects the K-nearest data points, where K can be any integer. Finally it assigns the data point to the class to which the majority of the K data points belong.\n",
    "\n",
    "#### Pro's\n",
    "1. It is **lazy learning algorithm** and therefore requires no training prior to making real time predictions. This makes the KNN algorithm much **faster** than other algorithms that require training e.g SVM, linear regression, etc.\n",
    "2. New data points can be added to the training data set without having to re-train the algorithm.\n",
    "3. It is **easy to implement** and therefore can be used in any type of machine learning project.\n",
    "4. It requires minimally only two parameters to be set.\n",
    "\n",
    "#### Cons\n",
    "1. The KNN algorithm is **not scalable**. This means that the KNN algorithm is not suitable for large datasets, because it compares a new data point to **all** other training points.\n",
    "2. Because of the **Curse of Dimensionality** it is also **not suitable for high dimensional data**.\n",
    "3. It doesn't work well on categorical data since it is based on a some kind of distance metric.\n",
    "4. Don't forget to **normalize** the data.\n"
   ],
   "metadata": {
    "collapsed": false,
    "pycharm": {
     "name": "#%% md\n"
    }
   }
  },
  {
   "cell_type": "markdown",
   "source": [
    "We create a dataset consisting of X and Y values without NA's."
   ],
   "metadata": {
    "collapsed": false,
    "pycharm": {
     "name": "#%% md\n"
    }
   }
  },
  {
   "cell_type": "code",
   "execution_count": 72,
   "outputs": [],
   "source": [
    "Xy = pd.concat([enquete_df.filter(regex='v23'), enquete_df.v10], axis=1)\n",
    "# Xy = pd.concat([enquete_df.filter(regex='v23'), enquete_df.v26], axis=1)\n",
    "Xy = Xy.dropna()\n",
    "X = Xy.iloc[:, :-1]\n",
    "y = Xy.iloc[:, -1]"
   ],
   "metadata": {
    "collapsed": false,
    "pycharm": {
     "name": "#%%\n"
    }
   }
  },
  {
   "cell_type": "markdown",
   "source": [
    "### Model Scores\n",
    "How well does the model perform on the test data using cross-validation?"
   ],
   "metadata": {
    "collapsed": false,
    "pycharm": {
     "name": "#%% md\n"
    }
   }
  },
  {
   "cell_type": "code",
   "execution_count": 121,
   "outputs": [
    {
     "name": "stdout",
     "output_type": "stream",
     "text": [
      "1 -> f-score: 0.51 (+/- 0.13)\n",
      "2 -> f-score: 0.50 (+/- 0.23)\n",
      "3 -> f-score: 0.47 (+/- 0.20)\n",
      "4 -> f-score: 0.46 (+/- 0.11)\n",
      "5 -> f-score: 0.52 (+/- 0.20)\n",
      "6 -> f-score: 0.53 (+/- 0.25)\n",
      "7 -> f-score: 0.49 (+/- 0.16)\n",
      "8 -> f-score: 0.47 (+/- 0.25)\n",
      "9 -> f-score: 0.47 (+/- 0.19)\n",
      "10 -> f-score: 0.44 (+/- 0.23)\n",
      "11 -> f-score: 0.45 (+/- 0.24)\n",
      "12 -> f-score: 0.43 (+/- 0.18)\n",
      "13 -> f-score: 0.43 (+/- 0.23)\n",
      "14 -> f-score: 0.39 (+/- 0.14)\n",
      "15 -> f-score: 0.45 (+/- 0.31)\n",
      "16 -> f-score: 0.42 (+/- 0.24)\n",
      "17 -> f-score: 0.45 (+/- 0.22)\n",
      "18 -> f-score: 0.39 (+/- 0.18)\n",
      "19 -> f-score: 0.46 (+/- 0.20)\n",
      "20 -> f-score: 0.39 (+/- 0.25)\n",
      "21 -> f-score: 0.43 (+/- 0.20)\n",
      "22 -> f-score: 0.37 (+/- 0.15)\n",
      "23 -> f-score: 0.43 (+/- 0.24)\n",
      "24 -> f-score: 0.37 (+/- 0.15)\n",
      "25 -> f-score: 0.41 (+/- 0.24)\n",
      "26 -> f-score: 0.40 (+/- 0.23)\n",
      "27 -> f-score: 0.39 (+/- 0.24)\n",
      "28 -> f-score: 0.38 (+/- 0.14)\n",
      "29 -> f-score: 0.41 (+/- 0.24)\n"
     ]
    },
    {
     "data": {
      "text/plain": "0.5499999999999999"
     },
     "execution_count": 121,
     "metadata": {},
     "output_type": "execute_result"
    }
   ],
   "source": [
    "from sklearn.metrics import confusion_matrix\n",
    "from sklearn.neighbors import KNeighborsClassifier\n",
    "from sklearn.model_selection import cross_val_score\n",
    "\n",
    "for k in range(1, 30):\n",
    "    model = KNeighborsClassifier(n_neighbors=k)\n",
    "    scores = cross_val_score(model, X, y, cv=6, scoring='f1_macro')\n",
    "    print(f'{k} -> f-score: {scores.mean():.2f} (+/- {scores.std() * 2:.2f})')\n",
    "\n",
    "# k = 9 gives the best mean accuracy and standard deviation\n",
    "model = KNeighborsClassifier(n_neighbors=5)\n",
    "cross_val_score(model, X, y, cv=6).mean()"
   ],
   "metadata": {
    "collapsed": false,
    "pycharm": {
     "name": "#%%\n"
    }
   }
  },
  {
   "cell_type": "code",
   "execution_count": 132,
   "outputs": [
    {
     "data": {
      "text/plain": "actual                                              buiten de stad (een dorp, een gehucht, het platteland, ...)  \\\nprediction                                                                                                        \nbuiten de stad (een dorp, een gehucht, het plat...                                                  7             \nin een stad                                                                                         3             \n\nactual                                              in een stad  \nprediction                                                       \nbuiten de stad (een dorp, een gehucht, het plat...            1  \nin een stad                                                   8  ",
      "text/html": "<div>\n<style scoped>\n    .dataframe tbody tr th:only-of-type {\n        vertical-align: middle;\n    }\n\n    .dataframe tbody tr th {\n        vertical-align: top;\n    }\n\n    .dataframe thead th {\n        text-align: right;\n    }\n</style>\n<table border=\"1\" class=\"dataframe\">\n  <thead>\n    <tr style=\"text-align: right;\">\n      <th>actual</th>\n      <th>buiten de stad (een dorp, een gehucht, het platteland, ...)</th>\n      <th>in een stad</th>\n    </tr>\n    <tr>\n      <th>prediction</th>\n      <th></th>\n      <th></th>\n    </tr>\n  </thead>\n  <tbody>\n    <tr>\n      <th>buiten de stad (een dorp, een gehucht, het platteland, ...)</th>\n      <td>7</td>\n      <td>1</td>\n    </tr>\n    <tr>\n      <th>in een stad</th>\n      <td>3</td>\n      <td>8</td>\n    </tr>\n  </tbody>\n</table>\n</div>"
     },
     "execution_count": 132,
     "metadata": {},
     "output_type": "execute_result"
    }
   ],
   "source": [
    "\n",
    "from sklearn.model_selection import train_test_split\n",
    "\n",
    "train_X, test_X, train_y, test_y = train_test_split(X, y, test_size=0.2, random_state=42)\n",
    "model.fit(train_X, train_y)\n",
    "\n",
    "pd.DataFrame(confusion_matrix(test_y, model.predict(test_X), labels=y.unique()),\n",
    "             columns=y.unique(), index=y.unique())\n",
    "\n",
    "# of met pivot\n",
    "pd.DataFrame(zip(model.predict(test_X), test_y), columns=['prediction', 'actual']).pivot_table(index='prediction',\n",
    "                                                                                               columns='actual',\n",
    "                                                                                               aggfunc=len)\n"
   ],
   "metadata": {
    "collapsed": false,
    "pycharm": {
     "name": "#%%\n"
    }
   }
  },
  {
   "cell_type": "code",
   "execution_count": 9,
   "outputs": [
    {
     "data": {
      "text/plain": "id           Timestamp         v1      v2    v3     v4            v5  \\\n47 2022-02-14 16:21:37  33.333333  Rechts  44.0  183.0  Weet ik niet   \n63 2022-02-17 10:53:53  16.666667  Rechts  42.5  180.0  Weet ik niet   \n25 2022-02-10 21:11:18  61.111111  Rechts  41.0  168.0  Weet ik niet   \n39 2022-02-14 14:40:31  44.444444   Links  42.0  180.0             O   \n\nid            v6   v7                                                 v8  \\\n47  Weet ik niet  1.0  John F. Kennedy werd vermoord in opdracht van ...   \n63  Weet ik niet  5.0  De aanslagen van 9/11 in NY werden niet door t...   \n25  Weet ik niet  1.0   Prinses Diana kwam niet per ongeluk om het leven   \n39      negatief  2.0  De tsunami van 2004 in de Indische Oceaan was ...   \n\nid                                                 v9  ... v23c v23d v23e  \\\n47                               Categorie B: Wagens.  ...    8    5    5   \n63                   Categorie G: Landbouwvoertuigen.  ...    9    7    6   \n25  Categorie AM: Bromfietsen met een maximumsnelh...  ...    7    8    5   \n39                               Categorie B: Wagens.  ...    6    6    7   \n\nid  v23f                                                v24  \\\n47   6.0  1=Panter,2=Poema,3=Vos,4=Wolf,5=Bruine beer,6=...   \n63   3.0  1=Otter,2=Panter,3=Poema,4=Wolf,5=Vos,6=Bruine...   \n25   4.0  1=Vos,2=Bever,3=Wasbeer,4=Otter,5=Wolf,6=Bruin...   \n39   5.0  1=Panter,2=Poema,3=Wolf,4=Bizon,5=Bruine beer,...   \n\nid                    v25                    v26   v27 v28  v29  \n47           Management 1      User interfaces 1  18.0       Ja  \n63  Programmeren 1 - Java         Data science 1  10.0       Ja  \n25             Geen enkel         Data science 1  18.0       Ja  \n39           Management 1  Programmeren 1 - Java  18.0       Ja  \n\n[4 rows x 36 columns]",
      "text/html": "<div>\n<style scoped>\n    .dataframe tbody tr th:only-of-type {\n        vertical-align: middle;\n    }\n\n    .dataframe tbody tr th {\n        vertical-align: top;\n    }\n\n    .dataframe thead th {\n        text-align: right;\n    }\n</style>\n<table border=\"1\" class=\"dataframe\">\n  <thead>\n    <tr style=\"text-align: right;\">\n      <th>id</th>\n      <th>Timestamp</th>\n      <th>v1</th>\n      <th>v2</th>\n      <th>v3</th>\n      <th>v4</th>\n      <th>v5</th>\n      <th>v6</th>\n      <th>v7</th>\n      <th>v8</th>\n      <th>v9</th>\n      <th>...</th>\n      <th>v23c</th>\n      <th>v23d</th>\n      <th>v23e</th>\n      <th>v23f</th>\n      <th>v24</th>\n      <th>v25</th>\n      <th>v26</th>\n      <th>v27</th>\n      <th>v28</th>\n      <th>v29</th>\n    </tr>\n  </thead>\n  <tbody>\n    <tr>\n      <th>47</th>\n      <td>2022-02-14 16:21:37</td>\n      <td>33.333333</td>\n      <td>Rechts</td>\n      <td>44.0</td>\n      <td>183.0</td>\n      <td>Weet ik niet</td>\n      <td>Weet ik niet</td>\n      <td>1.0</td>\n      <td>John F. Kennedy werd vermoord in opdracht van ...</td>\n      <td>Categorie B: Wagens.</td>\n      <td>...</td>\n      <td>8</td>\n      <td>5</td>\n      <td>5</td>\n      <td>6.0</td>\n      <td>1=Panter,2=Poema,3=Vos,4=Wolf,5=Bruine beer,6=...</td>\n      <td>Management 1</td>\n      <td>User interfaces 1</td>\n      <td>18.0</td>\n      <td></td>\n      <td>Ja</td>\n    </tr>\n    <tr>\n      <th>63</th>\n      <td>2022-02-17 10:53:53</td>\n      <td>16.666667</td>\n      <td>Rechts</td>\n      <td>42.5</td>\n      <td>180.0</td>\n      <td>Weet ik niet</td>\n      <td>Weet ik niet</td>\n      <td>5.0</td>\n      <td>De aanslagen van 9/11 in NY werden niet door t...</td>\n      <td>Categorie G: Landbouwvoertuigen.</td>\n      <td>...</td>\n      <td>9</td>\n      <td>7</td>\n      <td>6</td>\n      <td>3.0</td>\n      <td>1=Otter,2=Panter,3=Poema,4=Wolf,5=Vos,6=Bruine...</td>\n      <td>Programmeren 1 - Java</td>\n      <td>Data science 1</td>\n      <td>10.0</td>\n      <td></td>\n      <td>Ja</td>\n    </tr>\n    <tr>\n      <th>25</th>\n      <td>2022-02-10 21:11:18</td>\n      <td>61.111111</td>\n      <td>Rechts</td>\n      <td>41.0</td>\n      <td>168.0</td>\n      <td>Weet ik niet</td>\n      <td>Weet ik niet</td>\n      <td>1.0</td>\n      <td>Prinses Diana kwam niet per ongeluk om het leven</td>\n      <td>Categorie AM: Bromfietsen met een maximumsnelh...</td>\n      <td>...</td>\n      <td>7</td>\n      <td>8</td>\n      <td>5</td>\n      <td>4.0</td>\n      <td>1=Vos,2=Bever,3=Wasbeer,4=Otter,5=Wolf,6=Bruin...</td>\n      <td>Geen enkel</td>\n      <td>Data science 1</td>\n      <td>18.0</td>\n      <td></td>\n      <td>Ja</td>\n    </tr>\n    <tr>\n      <th>39</th>\n      <td>2022-02-14 14:40:31</td>\n      <td>44.444444</td>\n      <td>Links</td>\n      <td>42.0</td>\n      <td>180.0</td>\n      <td>O</td>\n      <td>negatief</td>\n      <td>2.0</td>\n      <td>De tsunami van 2004 in de Indische Oceaan was ...</td>\n      <td>Categorie B: Wagens.</td>\n      <td>...</td>\n      <td>6</td>\n      <td>6</td>\n      <td>7</td>\n      <td>5.0</td>\n      <td>1=Panter,2=Poema,3=Wolf,4=Bizon,5=Bruine beer,...</td>\n      <td>Management 1</td>\n      <td>Programmeren 1 - Java</td>\n      <td>18.0</td>\n      <td></td>\n      <td>Ja</td>\n    </tr>\n  </tbody>\n</table>\n<p>4 rows × 36 columns</p>\n</div>"
     },
     "execution_count": 9,
     "metadata": {},
     "output_type": "execute_result"
    }
   ],
   "source": [
    "distances, indices = model.kneighbors(X, n_neighbors=5)\n",
    "enquete_df.loc[indices[0, 1:]]"
   ],
   "metadata": {
    "collapsed": false,
    "pycharm": {
     "name": "#%%\n"
    }
   }
  },
  {
   "cell_type": "markdown",
   "source": [
    "### K-Nearest Neighbors Regression\n",
    "\n",
    "Same principle as KNN but instead of assigning a class to a data point, it assigns a value to the data point.\n"
   ],
   "metadata": {
    "collapsed": false,
    "pycharm": {
     "name": "#%% md\n"
    }
   }
  },
  {
   "cell_type": "code",
   "execution_count": 159,
   "outputs": [
    {
     "name": "stdout",
     "output_type": "stream",
     "text": [
      "1 -> r2: -68.45 (+/- 42.41)\n",
      "2 -> r2: -48.43 (+/- 46.49)\n",
      "3 -> r2: -40.13 (+/- 29.46)\n",
      "4 -> r2: -35.38 (+/- 27.96)\n",
      "5 -> r2: -35.11 (+/- 25.40)\n",
      "6 -> r2: -33.41 (+/- 24.06)\n",
      "7 -> r2: -32.91 (+/- 25.73)\n",
      "8 -> r2: -32.93 (+/- 21.80)\n",
      "9 -> r2: -31.81 (+/- 24.24)\n",
      "10 -> r2: -31.32 (+/- 23.93)\n",
      "11 -> r2: -31.45 (+/- 24.31)\n",
      "12 -> r2: -31.81 (+/- 24.05)\n",
      "13 -> r2: -31.67 (+/- 25.95)\n",
      "14 -> r2: -31.72 (+/- 27.66)\n",
      "15 -> r2: -30.93 (+/- 26.38)\n",
      "16 -> r2: -30.89 (+/- 26.34)\n",
      "17 -> r2: -31.51 (+/- 26.46)\n",
      "18 -> r2: -31.35 (+/- 27.12)\n",
      "19 -> r2: -30.95 (+/- 28.08)\n",
      "20 -> r2: -30.87 (+/- 26.65)\n",
      "21 -> r2: -31.29 (+/- 26.71)\n",
      "22 -> r2: -31.46 (+/- 27.19)\n",
      "23 -> r2: -31.67 (+/- 26.84)\n",
      "24 -> r2: -31.98 (+/- 26.73)\n",
      "25 -> r2: -32.71 (+/- 26.51)\n",
      "26 -> r2: -32.87 (+/- 27.14)\n",
      "27 -> r2: -33.46 (+/- 27.30)\n",
      "28 -> r2: -34.04 (+/- 27.72)\n",
      "29 -> r2: -34.29 (+/- 28.47)\n"
     ]
    },
    {
     "data": {
      "text/plain": "41.45497532894737"
     },
     "execution_count": 159,
     "metadata": {},
     "output_type": "execute_result"
    }
   ],
   "source": [
    "from sklearn.metrics import SCORERS, r2_score, mean_squared_error\n",
    "from sklearn.neighbors import KNeighborsRegressor\n",
    "\n",
    "# predict person's height based on their shoe size\n",
    "Xy = pd.concat([enquete_df.v3, enquete_df.v4], axis=1)\n",
    "\n",
    "Xy = Xy.dropna()\n",
    "X = Xy.iloc[:, :-1]\n",
    "y = Xy.iloc[:, -1]\n",
    "\n",
    "sorted(SCORERS.keys())\n",
    "\n",
    "for k in range(1, 30):\n",
    "    model = KNeighborsRegressor(n_neighbors=k)\n",
    "    scores = cross_val_score(model, X, y, cv=6, scoring='neg_mean_squared_error')\n",
    "    print(f'{k} -> r2: {scores.mean():.2f} (+/- {scores.std() * 2:.2f})')\n",
    "\n",
    "train_X, test_X, train_y, test_y = train_test_split(X, y, test_size=0.2)\n",
    "model = KNeighborsRegressor(n_neighbors=16)\n",
    "model.fit(train_X, train_y)\n",
    "\n",
    "mean_squared_error(test_y, model.predict(test_X))\n"
   ],
   "metadata": {
    "collapsed": false,
    "pycharm": {
     "name": "#%%\n"
    }
   }
  }
 ],
 "metadata": {
  "kernelspec": {
   "display_name": "Python 3",
   "language": "python",
   "name": "python3"
  },
  "language_info": {
   "codemirror_mode": {
    "name": "ipython",
    "version": 2
   },
   "file_extension": ".py",
   "mimetype": "text/x-python",
   "name": "python",
   "nbconvert_exporter": "python",
   "pygments_lexer": "ipython2",
   "version": "2.7.6"
  }
 },
 "nbformat": 4,
 "nbformat_minor": 0
}